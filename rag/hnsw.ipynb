{
 "cells": [
  {
   "cell_type": "code",
   "execution_count": 1,
   "metadata": {},
   "outputs": [
    {
     "name": "stdout",
     "output_type": "stream",
     "text": [
      "Searching for files in knowledge base...\n",
      "Loading knowledge base...\n"
     ]
    },
    {
     "name": "stderr",
     "output_type": "stream",
     "text": [
      "Loading knowledge base: 100%|██████████| 12871/12871 [03:34<00:00, 60.11article/s, Zionist po...]\n"
     ]
    },
    {
     "name": "stdout",
     "output_type": "stream",
     "text": [
      "Loading transformer model and tokenizer from transformers library: avsolatorio/NoInstruct-small-Embedding-v0\n",
      "Please wait...\n",
      "\n"
     ]
    }
   ],
   "source": [
    "from retrieval import Retrieval\n",
    "\n",
    "ret = Retrieval(r\"..\\context\\knowledge_base\")"
   ]
  },
  {
   "cell_type": "code",
   "execution_count": 6,
   "metadata": {},
   "outputs": [
    {
     "name": "stdout",
     "output_type": "stream",
     "text": [
      "Scores: [[ 3151 10711  1608  4788  5899 12177  8554  8555  6090  1094]]\n",
      "Length of scores: 1\n",
      "Length of corpus: 12871\n",
      "Candidate title: 2001 World Series\n"
     ]
    },
    {
     "data": {
      "text/plain": [
       "('President George W. Bush threw out the ceremonial first pitch before Game 3 at Yankee Stadium. Bush had been counseled by security officials to appear before Game 1 in Phoenix because they believed it would be more secure there, but Bush thought it would be better for the country to do it in New York. Security was extremely tight at Yankee Stadium before the game, with bomb sniffing dogs sweeping the property, snipers positioned around the stadium, and vendors screened by federal agents. A Secret Service agent dressed as an umpire and stood on the field with the other umpires before the game, briefly appearing on the TV broadcast. Bush wore a bulletproof vest underneath an FDNY sweater. Having been counseled by Derek Jeter to throw from the rubber on top of the pitcher\\'s mound rather than the base of the mound, Bush strode to the rubber, gave a thumbs up to the crowd, and fired a strike over home plate as the crowd chanted \"U-S-A\". Bush later reflected, \"I had never had such an adrenaline rush as when I finally made it to the mound. I was saying to the crowd, \\'I\\'m with you, the country\\'s with you\\' ... And I wound up and fired the pitch. I\\'ve been to conventions and rallies and speeches: I\\'ve never felt anything so powerful and emotions so strong, and the collective will of the crowd so evident.\"',\n",
       " '2001 World Series')"
      ]
     },
     "execution_count": 6,
     "metadata": {},
     "output_type": "execute_result"
    }
   ],
   "source": [
    "ret.get_context(\"What is the most dangerous weapon?\", hnsw=True)"
   ]
  },
  {
   "cell_type": "code",
   "execution_count": 7,
   "metadata": {},
   "outputs": [
    {
     "name": "stdout",
     "output_type": "stream",
     "text": [
      "Candidate title: Dagger\n"
     ]
    },
    {
     "data": {
      "text/plain": [
       "('A dagger is a fighting knife with a very sharp point and usually one or two sharp edges, typically designed or capable of being used as a cutting or thrusting weapon. Daggers have been used throughout human history for close combat confrontations, and many cultures have used adorned daggers in ritual and ceremonial contexts. The distinctive shape and historic usage of the dagger have made it iconic and symbolic. A dagger in the modern sense is a weapon designed for close-proximity combat or self-defense; due to its use in historic weapon assemblages, it has associations with assassination and murders. Double-edged knives, however, play different sorts of roles in different social contexts. ',\n",
       " 'Dagger')"
      ]
     },
     "execution_count": 7,
     "metadata": {},
     "output_type": "execute_result"
    }
   ],
   "source": [
    "ret.get_context(\"What is the most dangerous weapon?\", hnsw=False)"
   ]
  },
  {
   "cell_type": "code",
   "execution_count": null,
   "metadata": {},
   "outputs": [],
   "source": []
  }
 ],
 "metadata": {
  "kernelspec": {
   "display_name": "gpu_tf",
   "language": "python",
   "name": "python3"
  },
  "language_info": {
   "codemirror_mode": {
    "name": "ipython",
    "version": 3
   },
   "file_extension": ".py",
   "mimetype": "text/x-python",
   "name": "python",
   "nbconvert_exporter": "python",
   "pygments_lexer": "ipython3",
   "version": "3.10.14"
  }
 },
 "nbformat": 4,
 "nbformat_minor": 2
}
