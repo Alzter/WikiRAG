{
 "cells": [
  {
   "cell_type": "code",
   "execution_count": 1,
   "metadata": {},
   "outputs": [
    {
     "name": "stdout",
     "output_type": "stream",
     "text": [
      "Loading transformer model and tokenizer from transformers library: avsolatorio/NoInstruct-small-Embedding-v0\n",
      "Please wait...\n",
      "\n",
      "Loading transformer model and tokenizer from transformers library: meta-llama/Meta-Llama-3.1-8B-Instruct\n",
      "Please wait...\n",
      "\n"
     ]
    },
    {
     "data": {
      "application/vnd.jupyter.widget-view+json": {
       "model_id": "818771219f284858986ae3a14d6b1346",
       "version_major": 2,
       "version_minor": 0
      },
      "text/plain": [
       "Loading checkpoint shards:   0%|          | 0/4 [00:00<?, ?it/s]"
      ]
     },
     "metadata": {},
     "output_type": "display_data"
    }
   ],
   "source": [
    "from iterative_retrieval import IterativeRetrieval\n",
    "rag = IterativeRetrieval(\"../context/knowledge_base\")"
   ]
  },
  {
   "cell_type": "markdown",
   "metadata": {},
   "source": [
    "# Combine sub-questions into a multi-hop question"
   ]
  },
  {
   "cell_type": "code",
   "execution_count": 4,
   "metadata": {},
   "outputs": [],
   "source": [
    "from model_prompts import Prompt"
   ]
  },
  {
   "cell_type": "code",
   "execution_count": null,
   "metadata": {},
   "outputs": [],
   "source": [
    "query = \"How many years lapsed between Abraham Lincoln's birth and the invention of ASCII?\"\n",
    "contexts = [\n",
    "    \"Abraham Lincoln was born on February 12, 1809.\"\n",
    "]\n",
    "\n",
    "answer = rag.qd.answer_question_using_context(query, contexts, use_chain_of_thought=True)\n",
    "answer"
   ]
  },
  {
   "cell_type": "code",
   "execution_count": 2,
   "metadata": {},
   "outputs": [
    {
     "name": "stderr",
     "output_type": "stream",
     "text": [
      "Setting `pad_token_id` to `eos_token_id`:None for open-end generation.\n",
      "c:\\Users\\Alex\\anaconda3\\envs\\gpu_tf\\lib\\site-packages\\transformers\\models\\llama\\modeling_llama.py:655: UserWarning: 1Torch was not compiled with flash attention. (Triggered internally at C:\\actions-runner\\_work\\pytorch\\pytorch\\builder\\windows\\pytorch\\aten\\src\\ATen\\native\\transformers\\cuda\\sdp_utils.cpp:555.)\n",
      "  attn_output = torch.nn.functional.scaled_dot_product_attention(\n",
      "Starting from v4.46, the `logits` model output will have the same type as the model (except at train time, where it will always be FP32)\n"
     ]
    },
    {
     "data": {
      "text/plain": [
       "\"The question is asking for the difference between the year of Abraham Lincoln's birth and the year of invention of ASCII. The context shows that Abraham Lincoln was born in the year 1809, whilst the ASCII standard began in 1961. 196\""
      ]
     },
     "execution_count": 2,
     "metadata": {},
     "output_type": "execute_result"
    }
   ],
   "source": [
    "query = \"How many years lapsed between Abraham Lincoln's birth and the invention of ASCII?\"\n",
    "contexts = [\n",
    "    \"Abraham Lincoln was born on February 12, 1809.\",\n",
    "    \"Work on the ASCII standard began in May 1961.\"\n",
    "]\n",
    "\n",
    "answer = rag.qd.answer_question_using_context(query, contexts, use_chain_of_thought=True, max_tokens=300)\n",
    "answer"
   ]
  },
  {
   "cell_type": "code",
   "execution_count": 2,
   "metadata": {},
   "outputs": [
    {
     "name": "stderr",
     "output_type": "stream",
     "text": [
      "Setting `pad_token_id` to `eos_token_id`:None for open-end generation.\n",
      "c:\\Users\\Alex\\anaconda3\\envs\\gpu_tf\\lib\\site-packages\\transformers\\models\\llama\\modeling_llama.py:655: UserWarning: 1Torch was not compiled with flash attention. (Triggered internally at C:\\actions-runner\\_work\\pytorch\\pytorch\\builder\\windows\\pytorch\\aten\\src\\ATen\\native\\transformers\\cuda\\sdp_utils.cpp:555.)\n",
      "  attn_output = torch.nn.functional.scaled_dot_product_attention(\n",
      "Starting from v4.46, the `logits` model output will have the same type as the model (except at train time, where it will always be FP32)\n"
     ]
    },
    {
     "name": "stdout",
     "output_type": "stream",
     "text": [
      "Is answer attainable (should be True): False\n",
      "[{'role': 'system', 'content': '\\n    Based on the input and the question, you have to tell me if the information provided is sufficient to answer the question, or whether follow-up questions are needed to find the answer.\\n    Your answer must be yes or no.\\n    \\n    ## Examples:\\n    Input: The mother of Antiochus X Eusebes is Cleopatra IV.\\n    Input: The father of Cleopatra IV is Ptolemy VIII Physcon.\\n    Question: Who is the maternal grandfather of Antiochus X Eusebes?\\n    Are follow up questions needed here: No.\\n\\n    Input: Are both the directors of Jaws and Casino Royale from the same country?\\n    Input: The director of Jaws is Steven Spielberg.\\n    Question: Steven Spielberg is from the United States.\\n    Are follow up questions needed here: Yes.\\n\\n    Input: Are both the directors of Jaws and Casino Royale from the same country?\\n    Input: The director of Jaws is Steven Spielberg.\\n    Input: Steven Spielberg is from the United States.\\n    Input: The director of Casino Royale is Martin Campbell.\\n    Question: Martin Campbell is from New Zealand.\\n    Are follow up questions needed here: No.\\n    '}, {'role': 'user', 'content': 'Input: Abraham Lincoln was born on February 12, 1809.'}, {'role': 'user', 'content': 'Input: Work on the ASCII standard began in May 1961.'}, {'role': 'user', 'content': \"Question: How many years lapsed between Abraham Lincoln's birth and the invention of ASCII?\"}, {'role': 'assistant', 'content': 'Are follow-up questions needed here: '}, {'role': 'assistant', 'content': 'Yes.'}]\n"
     ]
    }
   ],
   "source": [
    "query = \"How many years lapsed between Abraham Lincoln's birth and the invention of ASCII?\"\n",
    "contexts = [\n",
    "    \"Abraham Lincoln was born on February 12, 1809.\",\n",
    "    \"Work on the ASCII standard began in May 1961.\"\n",
    "]\n",
    "\n",
    "is_answer_attainable, chat_history = rag.is_answer_attainable(query, contexts)\n",
    "\n",
    "print(f\"Is answer attainable (should be True): {is_answer_attainable}\")\n",
    "chat_history"
   ]
  },
  {
   "cell_type": "code",
   "execution_count": 4,
   "metadata": {},
   "outputs": [
    {
     "name": "stderr",
     "output_type": "stream",
     "text": [
      "Setting `pad_token_id` to `eos_token_id`:None for open-end generation.\n"
     ]
    },
    {
     "name": "stdout",
     "output_type": "stream",
     "text": [
      "Is answer attainable (should be False): False\n"
     ]
    },
    {
     "data": {
      "text/plain": [
       "[{'role': 'system',\n",
       "  'content': '\\n    Based on the input and the question, you have to tell me if the information provided is sufficient to answer the question, or whether follow-up questions are needed to find the answer.\\n    Your answer must be yes or no.\\n    \\n    ## Examples:\\n    Input: The mother of Antiochus X Eusebes is Cleopatra IV.\\n    Input: The father of Cleopatra IV is Ptolemy VIII Physcon.\\n    Question: Who is the maternal grandfather of Antiochus X Eusebes?\\n    Are follow up questions needed here: No.\\n\\n    Input: Are both the directors of Jaws and Casino Royale from the same country?\\n    Input: The director of Jaws is Steven Spielberg.\\n    Question: Steven Spielberg is from the United States.\\n    Are follow up questions needed here: Yes.\\n\\n    Input: Are both the directors of Jaws and Casino Royale from the same country?\\n    Input: The director of Jaws is Steven Spielberg.\\n    Input: Steven Spielberg is from the United States.\\n    Input: The director of Casino Royale is Martin Campbell.\\n    Question: Martin Campbell is from New Zealand.\\n    Are follow up questions needed here: No.\\n    '},\n",
       " {'role': 'user',\n",
       "  'content': 'Input: Abraham Lincoln was born on February 12, 1809.'},\n",
       " {'role': 'user',\n",
       "  'content': \"Question: How many years lapsed between Abraham Lincoln's birth and the invention of ASCII?\"},\n",
       " {'role': 'assistant', 'content': 'Are follow-up questions needed here: '},\n",
       " {'role': 'assistant', 'content': 'Yes. \\n\\nTo answer the question, we need'}]"
      ]
     },
     "execution_count": 4,
     "metadata": {},
     "output_type": "execute_result"
    }
   ],
   "source": [
    "query = \"How many years lapsed between Abraham Lincoln's birth and the invention of ASCII?\"\n",
    "contexts = [\n",
    "    \"Abraham Lincoln was born on February 12, 1809.\"\n",
    "]\n",
    "\n",
    "is_answer_attainable, chat_history = rag.is_answer_attainable(query, contexts)\n",
    "\n",
    "print(f\"Is answer attainable (should be False): {is_answer_attainable}\")\n",
    "chat_history"
   ]
  },
  {
   "cell_type": "code",
   "execution_count": 3,
   "metadata": {},
   "outputs": [
    {
     "name": "stderr",
     "output_type": "stream",
     "text": [
      "Setting `pad_token_id` to `eos_token_id`:None for open-end generation.\n",
      "c:\\Users\\Alex\\anaconda3\\envs\\gpu_tf\\lib\\site-packages\\transformers\\models\\llama\\modeling_llama.py:655: UserWarning: 1Torch was not compiled with flash attention. (Triggered internally at C:\\actions-runner\\_work\\pytorch\\pytorch\\builder\\windows\\pytorch\\aten\\src\\ATen\\native\\transformers\\cuda\\sdp_utils.cpp:555.)\n",
      "  attn_output = torch.nn.functional.scaled_dot_product_attention(\n",
      "Starting from v4.46, the `logits` model output will have the same type as the model (except at train time, where it will always be FP32)\n"
     ]
    }
   ],
   "source": [
    "query = \"How many years lapsed between Abraham Lincoln's birth and the invention of ASCII?\"\n",
    "contexts = [\n",
    "    \"Abraham Lincoln was born on February 12, 1809.\",\n",
    "    \"Work on the ASCII standard began in May 1961.\"\n",
    "]\n",
    "\n",
    "is_answer_attainable = rag.is_answer_attainable(query, contexts)"
   ]
  },
  {
   "cell_type": "code",
   "execution_count": 6,
   "metadata": {},
   "outputs": [
    {
     "data": {
      "text/plain": [
       "True"
      ]
     },
     "execution_count": 6,
     "metadata": {},
     "output_type": "execute_result"
    }
   ],
   "source": [
    "bool(is_answer_attainable[0])"
   ]
  },
  {
   "cell_type": "code",
   "execution_count": 11,
   "metadata": {},
   "outputs": [
    {
     "name": "stderr",
     "output_type": "stream",
     "text": [
      "Setting `pad_token_id` to `eos_token_id`:None for open-end generation.\n"
     ]
    },
    {
     "name": "stdout",
     "output_type": "stream",
     "text": [
      "When was the ASCII standard completed and officially published?\n"
     ]
    }
   ],
   "source": [
    "chat_history, sub_question = rag.qd.decompose_question_step(chat_history)\n",
    "\n",
    "print(sub_question)"
   ]
  },
  {
   "cell_type": "code",
   "execution_count": 9,
   "metadata": {},
   "outputs": [
    {
     "data": {
      "text/plain": [
       "[{'c'}, {'a'}, {'b'}]"
      ]
     },
     "execution_count": 9,
     "metadata": {},
     "output_type": "execute_result"
    }
   ],
   "source": [
    "a = [{\"a\"}, {\"b\"}]\n",
    "\n",
    "b = [{\"c\"}, *a]\n",
    "\n",
    "b"
   ]
  },
  {
   "cell_type": "code",
   "execution_count": null,
   "metadata": {},
   "outputs": [
    {
     "name": "stderr",
     "output_type": "stream",
     "text": [
      "Setting `pad_token_id` to `eos_token_id`:None for open-end generation.\n"
     ]
    },
    {
     "name": "stdout",
     "output_type": "stream",
     "text": [
      "Decomposing question: How many years lapsed between Abraham Lincoln's birth and the invention of ASCII?\n"
     ]
    },
    {
     "name": "stderr",
     "output_type": "stream",
     "text": [
      "c:\\Users\\Alex\\anaconda3\\envs\\gpu_tf\\lib\\site-packages\\transformers\\models\\llama\\modeling_llama.py:655: UserWarning: 1Torch was not compiled with flash attention. (Triggered internally at C:\\actions-runner\\_work\\pytorch\\pytorch\\builder\\windows\\pytorch\\aten\\src\\ATen\\native\\transformers\\cuda\\sdp_utils.cpp:555.)\n",
      "  attn_output = torch.nn.functional.scaled_dot_product_attention(\n",
      "Starting from v4.46, the `logits` model output will have the same type as the model (except at train time, where it will always be FP32)\n"
     ]
    },
    {
     "name": "stdout",
     "output_type": "stream",
     "text": [
      "Extracted sub-question: To determine the number of years that lapsed between Abraham Lincoln's birth and the invention of ASCII, I'll need to know a few things first. What year was Abraham Lincoln born in?\n",
      "Attempting to answer sub-question...\n",
      "Attempt 1 to answer question\n"
     ]
    },
    {
     "name": "stderr",
     "output_type": "stream",
     "text": [
      "Setting `pad_token_id` to `eos_token_id`:None for open-end generation.\n"
     ]
    },
    {
     "name": "stdout",
     "output_type": "stream",
     "text": [
      "Retrieved context from article: Abraham Lincoln\n",
      "Attempting to answer question using context: Lincoln was largely self-educated. His formal schooling was from itinerant teachers. It included two short stints in Kentucky, where he learned to read, but probably not to write. In Indiana at age seven, due to farm chores, he attended school only sporadically, for a total of fewer than 12 months in aggregate by age 15. Nonetheless, he remained an avid reader and retained a lifelong interest in learning. Family, neighbors, and schoolmates recalled that his readings included the King James Bible, Aesop's Fables, John Bunyan's \"The Pilgrim's Progress\", Daniel Defoe's \"Robinson Crusoe\", and \"The Autobiography of Benjamin Franklin\". Despite being self-educated, Lincoln was the recipient of honorary degrees later in life, including an honorary Doctor of Laws from Columbia University in June 1861.\n"
     ]
    }
   ],
   "source": [
    "chat_history = rag.answer_multi_hop_question(\"How many years lapsed between Abraham Lincoln's birth and the invention of ASCII?\")\n",
    "\n",
    "print(chat_history)"
   ]
  },
  {
   "cell_type": "code",
   "execution_count": 4,
   "metadata": {},
   "outputs": [
    {
     "name": "stderr",
     "output_type": "stream",
     "text": [
      "Setting `pad_token_id` to `eos_token_id`:None for open-end generation.\n"
     ]
    }
   ],
   "source": [
    "final_answer = rag.qd.answer_question_using_context(\n",
    "    \"How many years lapsed between Abraham Lincoln's birth and the invention of ASCII?\",\n",
    "    \" \".join([\n",
    "        \"Abraham Lincoln was born on February 12, 1809.\",\n",
    "        \"Work on the ASCII standard began in May 1961.\"\n",
    "    ])\n",
    ")"
   ]
  },
  {
   "cell_type": "code",
   "execution_count": 5,
   "metadata": {},
   "outputs": [
    {
     "data": {
      "text/plain": [
       "\"There are 52 years between Abraham Lincoln's birth and the invention of ASCII.\""
      ]
     },
     "execution_count": 5,
     "metadata": {},
     "output_type": "execute_result"
    }
   ],
   "source": [
    "final_answer"
   ]
  },
  {
   "cell_type": "code",
   "execution_count": null,
   "metadata": {},
   "outputs": [],
   "source": [
    "chat_history = [\n",
    "    {'role':'system','content':}\n",
    "]"
   ]
  }
 ],
 "metadata": {
  "kernelspec": {
   "display_name": "gpu_tf",
   "language": "python",
   "name": "python3"
  },
  "language_info": {
   "codemirror_mode": {
    "name": "ipython",
    "version": 3
   },
   "file_extension": ".py",
   "mimetype": "text/x-python",
   "name": "python",
   "nbconvert_exporter": "python",
   "pygments_lexer": "ipython3",
   "version": "3.10.14"
  }
 },
 "nbformat": 4,
 "nbformat_minor": 2
}
