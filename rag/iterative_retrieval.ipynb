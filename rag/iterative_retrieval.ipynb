{
 "cells": [
  {
   "cell_type": "markdown",
   "metadata": {},
   "source": [
    "# Extract sub-question from query"
   ]
  },
  {
   "cell_type": "code",
   "execution_count": 1,
   "metadata": {},
   "outputs": [],
   "source": [
    "from query_decomposer import QueryDecomposer\n",
    "qd = QueryDecomposer()"
   ]
  },
  {
   "cell_type": "code",
   "execution_count": 23,
   "metadata": {},
   "outputs": [
    {
     "name": "stderr",
     "output_type": "stream",
     "text": [
      "Setting `pad_token_id` to `eos_token_id`:None for open-end generation.\n"
     ]
    }
   ],
   "source": [
    "chat_history, sub_question = qd.decompose_question_step(\"Who was president of America the year Citibank was founded?\")"
   ]
  },
  {
   "cell_type": "code",
   "execution_count": 25,
   "metadata": {},
   "outputs": [
    {
     "data": {
      "text/plain": [
       "[{'generated_text': [{'role': 'system',\n",
       "    'content': \"\\n    ## Question Decomposition Specialist:\\n    You are an expert at breaking down difficult problems into simple problems by analysing them.\\n    The user needs you to answer a complex question for them which is hard to answer directly.\\n    Answer the question by decomposing it and tell the user at the right time when the problem can be solved.\\n\\n    ## Constraints:\\n    Forget all knowledge you've learned before and decompose the user's question based only on the user's answers.\\n    To make it easier for the user to answer, only ask one simple question at a time.\\n    You can only decompose the question, do not answer it directly.\\n    Only write one sentence for your answer containing a simple question.\\n\\n    ## Examples:\\n    User: What is the award that the director of film Wearing Velvet Slippers Under A Golden Umbrella won?\\n    You: Who is the director of Wearing Velvet Slippers Under A Golden Umbrella?\\n    User: The director of Wearing Velvet Slippers Under A Golden Umbrella is Maung Wunna.\\n    You: What awards has Maung Wunna won?\\n    User: Maung Wunna won the Myanmar Motion Picture Academy Awards.\\n    You: That's enough.\\n    \\n    User: Which film's director died earlier, Condemned Women or Faces In The Dark?\\n    You: What is the director of the film Condemned Women?\\n    User: The director of the film Condemned Women is Lew Landers.\\n    You: What is the director of the film Faces In The Dark?\\n    User: The director of the film Faces In The Dark is David Eady.\\n    You: When did Lew Landers die?\\n    User: Lew Landers died on 16 December 1962.\\n    You: When did David Eady die?\\n    User: David Eady died on April 5, 2009.\\n    You: That's enough.\\n    \"},\n",
       "   {'role': 'user',\n",
       "    'content': \"Let's break down this complex question: Who was president of America the year Citibank was founded?\"},\n",
       "   {'role': 'assistant', 'content': 'What year was Citibank founded?'}]}]"
      ]
     },
     "execution_count": 25,
     "metadata": {},
     "output_type": "execute_result"
    }
   ],
   "source": [
    "chat_history"
   ]
  },
  {
   "cell_type": "code",
   "execution_count": 5,
   "metadata": {},
   "outputs": [
    {
     "data": {
      "text/plain": [
       "'What year was Citibank founded?'"
      ]
     },
     "execution_count": 5,
     "metadata": {},
     "output_type": "execute_result"
    }
   ],
   "source": [
    "sub_question"
   ]
  },
  {
   "cell_type": "markdown",
   "metadata": {},
   "source": [
    "# Retrieve context for sub-question"
   ]
  },
  {
   "cell_type": "code",
   "execution_count": 4,
   "metadata": {},
   "outputs": [
    {
     "name": "stderr",
     "output_type": "stream",
     "text": [
      "c:\\Users\\Alex\\ProjectCSurvival\\rag\\retrieval.py:153: SyntaxWarning: assertion is always true, perhaps remove parentheses?\n",
      "  assert(len(summary_files) == len(summary_embeddings), \"Summary text files should directly map to summary embedding files.\")\n",
      "c:\\Users\\Alex\\ProjectCSurvival\\rag\\retrieval.py:188: SyntaxWarning: assertion is always true, perhaps remove parentheses?\n",
      "  assert(len(embedding_files) == len(embedding_texts), \"Embedding raw text files should directly map to embedding data files.\")\n"
     ]
    }
   ],
   "source": [
    "from retrieval import Retrieval\n",
    "retriever = Retrieval(\"..\\context\\knowledge_base\")"
   ]
  },
  {
   "cell_type": "code",
   "execution_count": 6,
   "metadata": {},
   "outputs": [
    {
     "name": "stdout",
     "output_type": "stream",
     "text": [
      "Embedding user query for dense retrieval:\n"
     ]
    },
    {
     "name": "stderr",
     "output_type": "stream",
     "text": [
      "c:\\Users\\Alex\\anaconda3\\envs\\gpu_tf\\lib\\site-packages\\transformers\\models\\bert\\modeling_bert.py:440: UserWarning: 1Torch was not compiled with flash attention. (Triggered internally at C:\\actions-runner\\_work\\pytorch\\pytorch\\builder\\windows\\pytorch\\aten\\src\\ATen\\native\\transformers\\cuda\\sdp_utils.cpp:555.)\n",
      "  attn_output = torch.nn.functional.scaled_dot_product_attention(\n"
     ]
    },
    {
     "name": "stdout",
     "output_type": "stream",
     "text": [
      "Finding best article to use as context with sparse retrieval:\n",
      "Using Wikipedia article: Apollo for context\n",
      "Found 232 chunks for within context.\n",
      "Finding best article chunks to use as context with dense retrieval:\n",
      "Context successfully retrieved.\n",
      "In spaceflight, the 1960s and 1970s NASA program for orbiting and landing astronauts on the Moon was named after Apollo, by NASA manager Abe Silverstein:\n"
     ]
    }
   ],
   "source": [
    "context, article = retriever.get_context(sub_question, num_contexts=1, use_sparse_retrieval=True)\n",
    "print(context)"
   ]
  },
  {
   "cell_type": "markdown",
   "metadata": {},
   "source": [
    "# Retrieve sub-answer from context"
   ]
  },
  {
   "cell_type": "markdown",
   "metadata": {},
   "source": [
    "Use the correct context to retrieve the correct sub-answer."
   ]
  },
  {
   "cell_type": "code",
   "execution_count": null,
   "metadata": {},
   "outputs": [],
   "source": [
    "context = \"Citibank, N.A. () is the primary U.S. banking subsidiary of Citigroup, a financial services multinational corporation. Citibank was founded in 1812 as City Bank of New York, and later became First National City Bank of New York. The bank has branches in 19 countries. The U.S. branches are concentrated in six metropolitan areas, New York City, Chicago, Los Angeles, San Francisco, Washington, D.C., and Miami.\""
   ]
  },
  {
   "cell_type": "code",
   "execution_count": 12,
   "metadata": {},
   "outputs": [
    {
     "name": "stderr",
     "output_type": "stream",
     "text": [
      "Setting `pad_token_id` to `eos_token_id`:None for open-end generation.\n"
     ]
    },
    {
     "data": {
      "text/plain": [
       "'Citibank was founded in 1812.'"
      ]
     },
     "execution_count": 12,
     "metadata": {},
     "output_type": "execute_result"
    }
   ],
   "source": [
    "sub_answer = qd.answer_question_using_context(\n",
    "    sub_question,\n",
    "    context)\n",
    "sub_answer"
   ]
  },
  {
   "cell_type": "code",
   "execution_count": 20,
   "metadata": {},
   "outputs": [
    {
     "name": "stdout",
     "output_type": "stream",
     "text": [
      "Model knows answer.\n"
     ]
    }
   ],
   "source": [
    "from retrieval import DenseRetrieval\n",
    "\n",
    "uncertainty = DenseRetrieval.compare_documents(\n",
    "    retriever.embedding_model.get_embedding(sub_answer),\n",
    "    retriever.embedding_model.get_embedding(\"I don't know.\")\n",
    ")\n",
    "\n",
    "if uncertainty > 0.9:\n",
    "    print(\"Model does not know answer.\")\n",
    "    pass # Get new evidence\n",
    "else:\n",
    "    print(\"Model knows answer.\")\n",
    "    pass # Ask new sub-question."
   ]
  },
  {
   "cell_type": "code",
   "execution_count": 52,
   "metadata": {},
   "outputs": [],
   "source": [
    "chat_history = [{'generated_text': [{'role': 'system',\n",
    "    'content': \"\\n    ## Question Decomposition Specialist:\\n    You are an expert at breaking down difficult problems into simple problems by analysing them.\\n    The user needs you to answer a complex question for them which is hard to answer directly.\\n    Answer the question by decomposing it and tell the user at the right time when the problem can be solved.\\n\\n    ## Constraints:\\n    Forget all knowledge you've learned before and decompose the user's question based only on the user's answers.\\n    To make it easier for the user to answer, only ask one simple question at a time.\\n    You can only decompose the question, do not answer it directly.\\n    Only write one sentence for your answer containing a simple question.\\n\\n    ## Examples:\\n    User: What is the award that the director of film Wearing Velvet Slippers Under A Golden Umbrella won?\\n    You: Who is the director of Wearing Velvet Slippers Under A Golden Umbrella?\\n    User: The director of Wearing Velvet Slippers Under A Golden Umbrella is Maung Wunna.\\n    You: What awards has Maung Wunna won?\\n    User: Maung Wunna won the Myanmar Motion Picture Academy Awards.\\n    You: That's enough.\\n    \\n    User: Which film's director died earlier, Condemned Women or Faces In The Dark?\\n    You: What is the director of the film Condemned Women?\\n    User: The director of the film Condemned Women is Lew Landers.\\n    You: What is the director of the film Faces In The Dark?\\n    User: The director of the film Faces In The Dark is David Eady.\\n    You: When did Lew Landers die?\\n    User: Lew Landers died on 16 December 1962.\\n    You: When did David Eady die?\\n    User: David Eady died on April 5, 2009.\\n    You: That's enough.\\n    \"},\n",
    "   {'role': 'user',\n",
    "    'content': \"Let's break down this complex question: Who was president of America the year Citibank was founded?\"},\n",
    "   {'role': 'assistant', 'content': 'What year was Citibank founded?'}]}]"
   ]
  },
  {
   "cell_type": "code",
   "execution_count": 53,
   "metadata": {},
   "outputs": [
    {
     "data": {
      "text/plain": [
       "[{'role': 'system',\n",
       "  'content': \"\\n    ## Question Decomposition Specialist:\\n    You are an expert at breaking down difficult problems into simple problems by analysing them.\\n    The user needs you to answer a complex question for them which is hard to answer directly.\\n    Answer the question by decomposing it and tell the user at the right time when the problem can be solved.\\n\\n    ## Constraints:\\n    Forget all knowledge you've learned before and decompose the user's question based only on the user's answers.\\n    To make it easier for the user to answer, only ask one simple question at a time.\\n    You can only decompose the question, do not answer it directly.\\n    Only write one sentence for your answer containing a simple question.\\n\\n    ## Examples:\\n    User: What is the award that the director of film Wearing Velvet Slippers Under A Golden Umbrella won?\\n    You: Who is the director of Wearing Velvet Slippers Under A Golden Umbrella?\\n    User: The director of Wearing Velvet Slippers Under A Golden Umbrella is Maung Wunna.\\n    You: What awards has Maung Wunna won?\\n    User: Maung Wunna won the Myanmar Motion Picture Academy Awards.\\n    You: That's enough.\\n    \\n    User: Which film's director died earlier, Condemned Women or Faces In The Dark?\\n    You: What is the director of the film Condemned Women?\\n    User: The director of the film Condemned Women is Lew Landers.\\n    You: What is the director of the film Faces In The Dark?\\n    User: The director of the film Faces In The Dark is David Eady.\\n    You: When did Lew Landers die?\\n    User: Lew Landers died on 16 December 1962.\\n    You: When did David Eady die?\\n    User: David Eady died on April 5, 2009.\\n    You: That's enough.\\n    \"},\n",
       " {'role': 'user',\n",
       "  'content': \"Let's break down this complex question: Who was president of America the year Citibank was founded?\"},\n",
       " {'role': 'assistant', 'content': 'What year was Citibank founded?'},\n",
       " {'role': 'user', 'content': 'Citibank was founded in 1812.'}]"
      ]
     },
     "execution_count": 53,
     "metadata": {},
     "output_type": "execute_result"
    }
   ],
   "source": [
    "new_chat_history = chat_history[0]['generated_text'].copy()\n",
    "\n",
    "new_chat_history.append(\n",
    "    {'role': 'user', 'content': sub_answer}\n",
    ")\n",
    "\n",
    "new_chat_history"
   ]
  },
  {
   "cell_type": "code",
   "execution_count": 54,
   "metadata": {},
   "outputs": [
    {
     "data": {
      "text/plain": [
       "{'role': 'user', 'content': 'Citibank was founded in 1812.'}"
      ]
     },
     "execution_count": 54,
     "metadata": {},
     "output_type": "execute_result"
    }
   ],
   "source": [
    "new_chat_history[-1]"
   ]
  },
  {
   "cell_type": "code",
   "execution_count": 55,
   "metadata": {},
   "outputs": [
    {
     "name": "stderr",
     "output_type": "stream",
     "text": [
      "Setting `pad_token_id` to `eos_token_id`:None for open-end generation.\n"
     ]
    }
   ],
   "source": [
    "chat_history, sub_question = qd.decompose_question_step(new_chat_history)"
   ]
  },
  {
   "cell_type": "code",
   "execution_count": 57,
   "metadata": {},
   "outputs": [
    {
     "data": {
      "text/plain": [
       "[{'generated_text': [{'role': 'system',\n",
       "    'content': \"\\n    ## Question Decomposition Specialist:\\n    You are an expert at breaking down difficult problems into simple problems by analysing them.\\n    The user needs you to answer a complex question for them which is hard to answer directly.\\n    Answer the question by decomposing it and tell the user at the right time when the problem can be solved.\\n\\n    ## Constraints:\\n    Forget all knowledge you've learned before and decompose the user's question based only on the user's answers.\\n    To make it easier for the user to answer, only ask one simple question at a time.\\n    You can only decompose the question, do not answer it directly.\\n    Only write one sentence for your answer containing a simple question.\\n\\n    ## Examples:\\n    User: What is the award that the director of film Wearing Velvet Slippers Under A Golden Umbrella won?\\n    You: Who is the director of Wearing Velvet Slippers Under A Golden Umbrella?\\n    User: The director of Wearing Velvet Slippers Under A Golden Umbrella is Maung Wunna.\\n    You: What awards has Maung Wunna won?\\n    User: Maung Wunna won the Myanmar Motion Picture Academy Awards.\\n    You: That's enough.\\n    \\n    User: Which film's director died earlier, Condemned Women or Faces In The Dark?\\n    You: What is the director of the film Condemned Women?\\n    User: The director of the film Condemned Women is Lew Landers.\\n    You: What is the director of the film Faces In The Dark?\\n    User: The director of the film Faces In The Dark is David Eady.\\n    You: When did Lew Landers die?\\n    User: Lew Landers died on 16 December 1962.\\n    You: When did David Eady die?\\n    User: David Eady died on April 5, 2009.\\n    You: That's enough.\\n    \"},\n",
       "   {'role': 'user',\n",
       "    'content': \"Let's break down this complex question: Who was president of America the year Citibank was founded?\"},\n",
       "   {'role': 'assistant', 'content': 'What year was Citibank founded?'},\n",
       "   {'role': 'user', 'content': 'Citibank was founded in 1812.'},\n",
       "   {'role': 'assistant',\n",
       "    'content': 'Who was the president of the United States in 1812?'}]}]"
      ]
     },
     "execution_count": 57,
     "metadata": {},
     "output_type": "execute_result"
    }
   ],
   "source": [
    "chat_history"
   ]
  },
  {
   "cell_type": "code",
   "execution_count": 16,
   "metadata": {},
   "outputs": [
    {
     "data": {
      "text/plain": [
       "tensor([0.6709], dtype=torch.float16)"
      ]
     },
     "execution_count": 16,
     "metadata": {},
     "output_type": "execute_result"
    }
   ],
   "source": [
    "from retrieval import DenseRetrieval\n",
    "DenseRetrieval.compare_documents(\n",
    "    retriever.embedding_model.get_embedding(sub_answer),\n",
    "    retriever.embedding_model.get_embedding(\"I don't know.\")\n",
    ")"
   ]
  },
  {
   "cell_type": "code",
   "execution_count": null,
   "metadata": {},
   "outputs": [],
   "source": [
    "\"The Andorran opening to the capitalist economy resulted in two axes: mass tourism and the country's tax exemption. The first steps toward the capitalist boom date from the 1930s, with the construction of FHASA and the creation of professional banking with Banc Agrícol (1930) and Crèdit Andorrà (1949), later with Banca Mora (1952), Banca Cassany (1958) and SOBANCA (1960). Shortly after, activities such as skiing and shopping become a tourist attraction, with the inauguration of ski resorts and cultural entities in the late 1930s. All in all, a renovated hotel industry has developed. In April 1968 a social health insurance system was created (CASS).\""
   ]
  }
 ],
 "metadata": {
  "kernelspec": {
   "display_name": "gpu_tf",
   "language": "python",
   "name": "python3"
  },
  "language_info": {
   "codemirror_mode": {
    "name": "ipython",
    "version": 3
   },
   "file_extension": ".py",
   "mimetype": "text/x-python",
   "name": "python",
   "nbconvert_exporter": "python",
   "pygments_lexer": "ipython3",
   "version": "3.10.14"
  }
 },
 "nbformat": 4,
 "nbformat_minor": 2
}
