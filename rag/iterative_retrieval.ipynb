{
 "cells": [
  {
   "cell_type": "code",
   "execution_count": 1,
   "metadata": {},
   "outputs": [],
   "source": [
    "from query_decomposer import QueryDecomposer"
   ]
  },
  {
   "cell_type": "code",
   "execution_count": 2,
   "metadata": {},
   "outputs": [
    {
     "name": "stdout",
     "output_type": "stream",
     "text": [
      "Loading transformer model and tokenizer from transformers library: meta-llama/Meta-Llama-3.1-8B-Instruct\n",
      "Please wait...\n",
      "\n"
     ]
    },
    {
     "data": {
      "application/vnd.jupyter.widget-view+json": {
       "model_id": "73a45c301e45429990d6f0440bf985b4",
       "version_major": 2,
       "version_minor": 0
      },
      "text/plain": [
       "Loading checkpoint shards:   0%|          | 0/4 [00:00<?, ?it/s]"
      ]
     },
     "metadata": {},
     "output_type": "display_data"
    }
   ],
   "source": [
    "qd = QueryDecomposer()"
   ]
  },
  {
   "cell_type": "code",
   "execution_count": 3,
   "metadata": {},
   "outputs": [
    {
     "name": "stderr",
     "output_type": "stream",
     "text": [
      "Setting `pad_token_id` to `eos_token_id`:None for open-end generation.\n",
      "c:\\Users\\Alex\\anaconda3\\envs\\gpu_tf\\lib\\site-packages\\transformers\\models\\llama\\modeling_llama.py:655: UserWarning: 1Torch was not compiled with flash attention. (Triggered internally at C:\\actions-runner\\_work\\pytorch\\pytorch\\builder\\windows\\pytorch\\aten\\src\\ATen\\native\\transformers\\cuda\\sdp_utils.cpp:555.)\n",
      "  attn_output = torch.nn.functional.scaled_dot_product_attention(\n",
      "Starting from v4.46, the `logits` model output will have the same type as the model (except at train time, where it will always be FP32)\n",
      "Setting `pad_token_id` to `eos_token_id`:None for open-end generation.\n"
     ]
    }
   ],
   "source": [
    "chat_history, sub_question = qd.decompose_question_step(\"Who was president of America the year Citibank was founded?\")"
   ]
  },
  {
   "cell_type": "code",
   "execution_count": 4,
   "metadata": {},
   "outputs": [
    {
     "data": {
      "text/plain": [
       "[{'generated_text': [{'role': 'system',\n",
       "    'content': \"\\n    ## Question Decomposition Specialist\\n    You are an expert at breaking down difficult problems into simple problems by analysing them.\\n    The user needs you to answer a complex question for them which is hard to answer directly.\\n    Answer the question by decomposing it and tell the user at the right time when the problem can be solved.\\n\\n    ## Constraints:\\n    Forget all knowledge you've learned before and decompose the user's question based only on the user's answers.\\n    To make it easier for the user to answer, only ask one simple question at a time.\\n    You can only decompose the question, do not answer it directly.\\n    Only write one sentence for your answer containing a simple question.\\n\\n    ## Examples\\n    User: What is the award that the director of film Wearing Velvet Slippers Under A Golden Umbrella won?\\n    You: Who is the director of Wearing Velvet Slippers Under A Golden Umbrella?\\n    User: The director of Wearing Velvet Slippers Under A Golden Umbrella is Maung Wunna.\\n    You: What awards has Maung Wunna won?\\n    User: Maung Wunna won the Myanmar Motion Picture Academy Awards.\\n    You: That's enough.\\n    \\n    User: Which film's director died earlier, Condemned Women or Faces In The Dark?\\n    You: What is the director of the film Condemned Women?\\n    User: The director of the film Condemned Women is Lew Landers.\\n    You: What is the director of the film Faces In The Dark?\\n    User: The director of the film Faces In The Dark is David Eady.\\n    You: When did Lew Landers die?\\n    User: Lew Landers died on 16 December 1962.\\n    You: When did David Eady die?\\n    User: David Eady died on April 5, 2009.\\n    You: That's enough.\\n    \"},\n",
       "   {'role': 'user',\n",
       "    'content': \"Let's break down this complex question: Who was president of America the year Citibank was founded?\"},\n",
       "   {'role': 'assistant', 'content': 'What year was Citibank founded?'}]}]"
      ]
     },
     "execution_count": 4,
     "metadata": {},
     "output_type": "execute_result"
    }
   ],
   "source": [
    "chat_history"
   ]
  },
  {
   "cell_type": "code",
   "execution_count": 5,
   "metadata": {},
   "outputs": [
    {
     "data": {
      "text/plain": [
       "'What year was Citibank founded?'"
      ]
     },
     "execution_count": 5,
     "metadata": {},
     "output_type": "execute_result"
    }
   ],
   "source": [
    "sub_question"
   ]
  },
  {
   "cell_type": "code",
   "execution_count": 1,
   "metadata": {},
   "outputs": [
    {
     "name": "stderr",
     "output_type": "stream",
     "text": [
      "c:\\Users\\Alex\\ProjectCSurvival\\rag\\retrieval.py:153: SyntaxWarning: assertion is always true, perhaps remove parentheses?\n",
      "  assert(len(summary_files) == len(summary_embeddings), \"Summary text files should directly map to summary embedding files.\")\n",
      "c:\\Users\\Alex\\ProjectCSurvival\\rag\\retrieval.py:188: SyntaxWarning: assertion is always true, perhaps remove parentheses?\n",
      "  assert(len(embedding_files) == len(embedding_texts), \"Embedding raw text files should directly map to embedding data files.\")\n"
     ]
    }
   ],
   "source": [
    "from retrieval import Retrieval"
   ]
  },
  {
   "cell_type": "code",
   "execution_count": 3,
   "metadata": {},
   "outputs": [
    {
     "name": "stdout",
     "output_type": "stream",
     "text": [
      "Loading transformer model and tokenizer from transformers library: avsolatorio/NoInstruct-small-Embedding-v0\n",
      "Please wait...\n",
      "\n"
     ]
    }
   ],
   "source": [
    "retriever = Retrieval(\"..\\context\\knowledge_base\")"
   ]
  },
  {
   "cell_type": "code",
   "execution_count": null,
   "metadata": {},
   "outputs": [
    {
     "name": "stdout",
     "output_type": "stream",
     "text": [
      "Embedding user query for dense retrieval:\n",
      "Loading all document chunk embeddings into memory...\n"
     ]
    }
   ],
   "source": [
    "context, article = retriever.get_context('Who was the first person on the moon?', num_contexts=1, exhaustive=True)\n",
    "print(context)"
   ]
  },
  {
   "cell_type": "code",
   "execution_count": 4,
   "metadata": {},
   "outputs": [
    {
     "name": "stdout",
     "output_type": "stream",
     "text": [
      "Embedding user query for dense retrieval:\n"
     ]
    },
    {
     "name": "stderr",
     "output_type": "stream",
     "text": [
      "c:\\Users\\Alex\\anaconda3\\envs\\gpu_tf\\lib\\site-packages\\transformers\\models\\bert\\modeling_bert.py:440: UserWarning: 1Torch was not compiled with flash attention. (Triggered internally at C:\\actions-runner\\_work\\pytorch\\pytorch\\builder\\windows\\pytorch\\aten\\src\\ATen\\native\\transformers\\cuda\\sdp_utils.cpp:555.)\n",
      "  attn_output = torch.nn.functional.scaled_dot_product_attention(\n"
     ]
    },
    {
     "name": "stdout",
     "output_type": "stream",
     "text": [
      "Finding best article to use as context with dense retrieval:\n",
      "Using Wikipedia article: Andorra for context\n",
      "Found 119 chunks for within context.\n",
      "Finding best article chunks to use as context with dense retrieval:\n",
      "Context successfully retrieved.\n"
     ]
    },
    {
     "data": {
      "text/plain": [
       "(\"The Andorran opening to the capitalist economy resulted in two axes: mass tourism and the country's tax exemption. The first steps toward the capitalist boom date from the 1930s, with the construction of FHASA and the creation of professional banking with Banc Agrícol (1930) and Crèdit Andorrà (1949), later with Banca Mora (1952), Banca Cassany (1958) and SOBANCA (1960). Shortly after, activities such as skiing and shopping become a tourist attraction, with the inauguration of ski resorts and cultural entities in the late 1930s. All in all, a renovated hotel industry has developed. In April 1968 a social health insurance system was created (CASS).\",\n",
       " 'Andorra')"
      ]
     },
     "execution_count": 4,
     "metadata": {},
     "output_type": "execute_result"
    }
   ],
   "source": [
    "retriever.get_context('What year was Citibank founded?', num_contexts=1)"
   ]
  },
  {
   "cell_type": "code",
   "execution_count": null,
   "metadata": {},
   "outputs": [],
   "source": [
    "\"The Andorran opening to the capitalist economy resulted in two axes: mass tourism and the country's tax exemption. The first steps toward the capitalist boom date from the 1930s, with the construction of FHASA and the creation of professional banking with Banc Agrícol (1930) and Crèdit Andorrà (1949), later with Banca Mora (1952), Banca Cassany (1958) and SOBANCA (1960). Shortly after, activities such as skiing and shopping become a tourist attraction, with the inauguration of ski resorts and cultural entities in the late 1930s. All in all, a renovated hotel industry has developed. In April 1968 a social health insurance system was created (CASS).\""
   ]
  }
 ],
 "metadata": {
  "kernelspec": {
   "display_name": "gpu_tf",
   "language": "python",
   "name": "python3"
  },
  "language_info": {
   "codemirror_mode": {
    "name": "ipython",
    "version": 3
   },
   "file_extension": ".py",
   "mimetype": "text/x-python",
   "name": "python",
   "nbconvert_exporter": "python",
   "pygments_lexer": "ipython3",
   "version": "3.10.14"
  }
 },
 "nbformat": 4,
 "nbformat_minor": 2
}
