{
 "cells": [
  {
   "cell_type": "code",
   "execution_count": 16,
   "metadata": {},
   "outputs": [
    {
     "data": {
      "text/plain": [
       "'d\\x01'"
      ]
     },
     "execution_count": 16,
     "metadata": {},
     "output_type": "execute_result"
    }
   ],
   "source": [
    "re.sub(\"\\s\\S*\", \"Hello world\", \"\\1\")"
   ]
  },
  {
   "cell_type": "code",
   "execution_count": 1,
   "metadata": {},
   "outputs": [
    {
     "ename": "TypeError",
     "evalue": "unhashable type: 'list'",
     "output_type": "error",
     "traceback": [
      "\u001b[1;31m---------------------------------------------------------------------------\u001b[0m",
      "\u001b[1;31mTypeError\u001b[0m                                 Traceback (most recent call last)",
      "Cell \u001b[1;32mIn[1], line 42\u001b[0m\n\u001b[0;32m     39\u001b[0m     \u001b[38;5;28;01mreturn\u001b[39;00m page_texts_concatenated\n\u001b[0;32m     41\u001b[0m file_path \u001b[38;5;241m=\u001b[39m \u001b[38;5;124mr\u001b[39m\u001b[38;5;124m\"\u001b[39m\u001b[38;5;124mC:/Users/Alex/Desktop/COS40007_Unit Outline_Sem 2 2024.pdf\u001b[39m\u001b[38;5;124m\"\u001b[39m\n\u001b[1;32m---> 42\u001b[0m \u001b[38;5;28mprint\u001b[39m(\u001b[43mextract_pdf_text\u001b[49m\u001b[43m(\u001b[49m\u001b[43mfile_path\u001b[49m\u001b[43m)\u001b[49m)\n",
      "Cell \u001b[1;32mIn[1], line 31\u001b[0m, in \u001b[0;36mextract_pdf_text\u001b[1;34m(file_path, parsers, min_paragraph_lines)\u001b[0m\n\u001b[0;32m     29\u001b[0m \u001b[38;5;28;01mfor\u001b[39;00m pattern, repl, flags \u001b[38;5;129;01min\u001b[39;00m parsers:\n\u001b[0;32m     30\u001b[0m     \u001b[38;5;28;01mif\u001b[39;00m flags \u001b[38;5;241m==\u001b[39m \u001b[38;5;28;01mNone\u001b[39;00m: flags \u001b[38;5;241m=\u001b[39m \u001b[38;5;241m0\u001b[39m\n\u001b[1;32m---> 31\u001b[0m     text \u001b[38;5;241m=\u001b[39m \u001b[43mre\u001b[49m\u001b[38;5;241;43m.\u001b[39;49m\u001b[43msub\u001b[49m\u001b[43m(\u001b[49m\u001b[43mpattern\u001b[49m\u001b[43m,\u001b[49m\u001b[43m \u001b[49m\u001b[43mrepl\u001b[49m\u001b[43m,\u001b[49m\u001b[43m \u001b[49m\u001b[43mstring\u001b[49m\u001b[38;5;241;43m=\u001b[39;49m\u001b[43mtext\u001b[49m\u001b[43m,\u001b[49m\u001b[43m \u001b[49m\u001b[43mflags\u001b[49m\u001b[38;5;241;43m=\u001b[39;49m\u001b[43mflags\u001b[49m\u001b[43m)\u001b[49m\n\u001b[0;32m     33\u001b[0m text \u001b[38;5;241m=\u001b[39m text\u001b[38;5;241m.\u001b[39mstrip()\n\u001b[0;32m     35\u001b[0m page_texts_clean\u001b[38;5;241m.\u001b[39mappend(text)\n",
      "File \u001b[1;32mc:\\Users\\Alex\\anaconda3\\envs\\gpu_tf\\lib\\re.py:209\u001b[0m, in \u001b[0;36msub\u001b[1;34m(pattern, repl, string, count, flags)\u001b[0m\n\u001b[0;32m    202\u001b[0m \u001b[38;5;28;01mdef\u001b[39;00m \u001b[38;5;21msub\u001b[39m(pattern, repl, string, count\u001b[38;5;241m=\u001b[39m\u001b[38;5;241m0\u001b[39m, flags\u001b[38;5;241m=\u001b[39m\u001b[38;5;241m0\u001b[39m):\n\u001b[0;32m    203\u001b[0m \u001b[38;5;250m    \u001b[39m\u001b[38;5;124;03m\"\"\"Return the string obtained by replacing the leftmost\u001b[39;00m\n\u001b[0;32m    204\u001b[0m \u001b[38;5;124;03m    non-overlapping occurrences of the pattern in string by the\u001b[39;00m\n\u001b[0;32m    205\u001b[0m \u001b[38;5;124;03m    replacement repl.  repl can be either a string or a callable;\u001b[39;00m\n\u001b[0;32m    206\u001b[0m \u001b[38;5;124;03m    if a string, backslash escapes in it are processed.  If it is\u001b[39;00m\n\u001b[0;32m    207\u001b[0m \u001b[38;5;124;03m    a callable, it's passed the Match object and must return\u001b[39;00m\n\u001b[0;32m    208\u001b[0m \u001b[38;5;124;03m    a replacement string to be used.\"\"\"\u001b[39;00m\n\u001b[1;32m--> 209\u001b[0m     \u001b[38;5;28;01mreturn\u001b[39;00m \u001b[43m_compile\u001b[49m\u001b[43m(\u001b[49m\u001b[43mpattern\u001b[49m\u001b[43m,\u001b[49m\u001b[43m \u001b[49m\u001b[43mflags\u001b[49m\u001b[43m)\u001b[49m\u001b[38;5;241m.\u001b[39msub(repl, string, count)\n",
      "File \u001b[1;32mc:\\Users\\Alex\\anaconda3\\envs\\gpu_tf\\lib\\re.py:293\u001b[0m, in \u001b[0;36m_compile\u001b[1;34m(pattern, flags)\u001b[0m\n\u001b[0;32m    291\u001b[0m     flags \u001b[38;5;241m=\u001b[39m flags\u001b[38;5;241m.\u001b[39mvalue\n\u001b[0;32m    292\u001b[0m \u001b[38;5;28;01mtry\u001b[39;00m:\n\u001b[1;32m--> 293\u001b[0m     \u001b[38;5;28;01mreturn\u001b[39;00m \u001b[43m_cache\u001b[49m\u001b[43m[\u001b[49m\u001b[38;5;28;43mtype\u001b[39;49m\u001b[43m(\u001b[49m\u001b[43mpattern\u001b[49m\u001b[43m)\u001b[49m\u001b[43m,\u001b[49m\u001b[43m \u001b[49m\u001b[43mpattern\u001b[49m\u001b[43m,\u001b[49m\u001b[43m \u001b[49m\u001b[43mflags\u001b[49m\u001b[43m]\u001b[49m\n\u001b[0;32m    294\u001b[0m \u001b[38;5;28;01mexcept\u001b[39;00m \u001b[38;5;167;01mKeyError\u001b[39;00m:\n\u001b[0;32m    295\u001b[0m     \u001b[38;5;28;01mpass\u001b[39;00m\n",
      "\u001b[1;31mTypeError\u001b[0m: unhashable type: 'list'"
     ]
    }
   ],
   "source": [
    "from pypdf import PdfReader\n",
    "import re\n",
    "\n",
    "\n",
    "parsers = [\n",
    "    # Maximum number of spaces between words: 1\n",
    "    (r\" +\", \" \", None),\n",
    "    # Maximum number of line breaks between paragraphs: 2\n",
    "    (r\"\\n\\n+\", r\"\\n\\n\", None),\n",
    "    # Remove all spaces at the beginning of a line\n",
    "    (r\"^ *\", \"\", re.MULTILINE),\n",
    "\n",
    "    # Push all hanging sentences into the previous paragraph\n",
    "    (r\"\\n+\\n(?=[^\\n]+\\n\\n)\", \"\\n\", None),\n",
    "    \n",
    "    # Force all paragraphs to contain at least 3 lines\n",
    "    (r\"\\n+\\n(?=[^\\n]+\\n[^\\n]+\\n\\n)\", \"\\n\", None)\n",
    "]\n",
    "\n",
    "def extract_pdf_text(file_path, parsers = parsers, min_paragraph_lines = 2):\n",
    "    reader = PdfReader(file_path)\n",
    "\n",
    "    page_text = [page.extract_text(extraction_mode='layout') for page in reader.pages]\n",
    "\n",
    "    page_texts_clean = []\n",
    "\n",
    "    for text in page_text:\n",
    "\n",
    "        for pattern, repl, flags in parsers:\n",
    "            if flags == None: flags = 0\n",
    "            text = re.sub(pattern, repl, string=text, flags=flags)\n",
    "\n",
    "        text = text.strip()\n",
    "\n",
    "        page_texts_clean.append(text)\n",
    "    \n",
    "    page_texts_concatenated = \"\\n\\n\".join(page_texts_clean)\n",
    "\n",
    "    return page_texts_concatenated\n",
    "\n",
    "file_path = r\"C:/Users/Alex/Desktop/COS40007_Unit Outline_Sem 2 2024.pdf\"\n",
    "print(extract_pdf_text(file_path))"
   ]
  },
  {
   "cell_type": "code",
   "execution_count": 23,
   "metadata": {},
   "outputs": [
    {
     "data": {
      "text/plain": [
       "'Release Date RRP Code Rating\\nContents JP (/File:Logo-md.png)1992-11-21[2]¥6,800 G-4088\\n\\nUS (/File:Logo-md.png)1992-11-24$54.99[3][4]1051\\n1 Story\\n2 Gameplay EU (/File:Logo-md.png)1992-11-24€? 1051\\n2.1 Two-player VS mode UK (/File:Logo-md.png)1992-11-24£39.99[5] 1051\\n\\n2.2 Items CA (/File:Logo-md.png)1992 $? ?\\n2.3 Scoring AS (/File:Logo-md.png)1992 ? 1051-40\\n\\n3 Music and sound KR (/File:Logo-md.png)1992-11-21₩6,800 GM8073JG\\n\\n3.1 Sound test AU (/File:Logo-md.png)1992-12-01$89.95[6] FSON01SMC\\n\\n4 History AU (/File:Logo-md.png)\\n(sgc) 199x $? FSON01SMC\\n4.1 Sales data\\n5 Versions BR (/File:Logo-md.png)1992 R$? 044130\\n5.1 REV01 BR (/File:Logo-md.png)199x R$? 044130 (/File:Tectoy_\\n5.2 REV02 (Sonic Classics) (Red)\\n5.3 Comparisons DE (/File:Logo-md.png)1992-11-24DM 99.95[7]1051\\n\\n5.4 Rereleases and ports ZA (/File:Logo-md.png)199x ? ?\\n\\n6 Production credits SE (/File:Logo-md.png)\\n(r) 199x ?kr ?\\n7 Patents\\n8 Manuals GR (/File:Logo-md.png)199x ? ?\\n9 Magazine articles CZ (/File:Logo-md.png)199x ? ?\\n10 Promotional material\\n11 Artwork PT (/File:Logo-md.png)199x ? ?\\n12 Physical scans\\n13 Technical information JP (/File:Logo-vc.png)2007-06-19[8]600[9]pts? (/File:CERO_A\\n\\n13.1 ROM dump status\\n13.2 ROM hacking US (/File:Logo-vc.png)2007-06-11[10]800[10]pts?\\n(/File:ESRB_Ever\\n13.2.1 Hacking Guides EU (/File:Logo-vc.png)2007-07-06[11][12]800[11]pts? (/File:Pegi_3\\n\\n14 See also\\n15 External links AU (/File:Logo-vc.png)2007-07800[13]pts ? (/File:OFLC_smal\\n16 References\\n\\nJP (/File:Logo-switchonline.svg)2021-10-26[14]¥sub?\\n\\nUS (/File:Logo-switchonline.svg)2021-10-25[15]$sub?\\nStory\\nEU (/File:Logo-switchonline.svg)2021-10-26[16]€sub?\\nSome time after stopping Dr. Eggman (/Dr._Eggman) once again, Sonic the\\nHedgehog (/Sonic_the_Hedgehog) grows restless, deciding to do what he does UK (/File:Logo-switchonline.svg)2021-10-26[17]£sub?\\nbest - travel the world, looking for adventure. Climbing into his trusty biplane,\\nthe red-and-white Tornado (/Tornado), the blue hedgehog begins flying the AU (/File:Logo-switchonline.svg)2021-10-26[18]$sub?\\n\\nskies, looking for places unknown. On nothing more than an impulse, Sonic\\ndecides to land on an unassuming island, called West Side Island US (/File:Logo-Real.png)2002-12-05[19]$? ?\\n\\n(/West_Side_Island). Deciding to kick back and explore the isle, Sonic is\\nEU (/File:Logo-steam.svg)2011-01-26[20]€4.49[21]71163\\ncompletely oblivious to the legend connected to the island, and the similarities (/File:PEGI_3_20\\nit has in relation to his adventures on South Island (/South_Island). According DE (/File:Logo-steam.svg)2011-01-26[20]€4.49[21]71163 (/File:USK_6\\nto legend, there was once a great and prosperous people who lived on its\\nshores, who achieved their greatness through the use of mysterious, powerful UK (/File:Logo-steam.svg)2011-01-26[20]£3.99[21]71163\\nstones. Their peace could have been everlasting if not for a select few who (/File:PEGI_3_20\\n\\ndesired to use the stones for their own selfish gains, causing the gods to take US (/File:Logo-steam.svg)2011-01-26[20]$4.99[21]71163\\naway the stones and hide them away on the island... (/File:ESRB_Ever\\n\\nA few days after landing, Sonic realized that he was being followed by AU (/File:Logo-steam.svg)2011-01-26[20]$6.99[21]71163\\n(/File:OFLC_smal\\nsomeone. Looking behind him, Sonic spotted a young fox, who immediately hid\\nfrom the blue hedgehog when he looked his way. Not thinking much of it, Sonic EU (/File:Logo-steamlinux.svg)2019-01-31[22]€4.49[23]71163\\n(/File:PEGI_3_20\\nran off, the fox once again following. The young fox\\'s given name, Miles Prower\\n(/Miles_%22Tails%22_Prower), was overshadowed by his nickname, \"Tails,\" DE (/File:Logo-steamlinux.svg)2019-01-31[22]€4.49[23]71163 (/File:USK_6\\n\\nderived from the fact that he possessed not one but two tails behind him.\\nUK (/File:Logo-steamlinux.svg)2019-01-31[22]£3.99[23]71163\\nOften being ridiculed by his peers, \"Tails\" outlook on life changed immediately (/File:PEGI_3_20\\nonce he spotted Sonic running around his home, deciding that he had to follow\\nand emulate his new hero, wanting to be just as cool and confident. No matter US (/File:Logo-steamlinux.svg)2019-01-31[22]$4.99[23]71163\\n(/File:ESRB_2018\\nwhere Sonic would go, Miles would try and follow, Sonic eventually accepting\\nthe near-constant trailing of the young fox. AU (/File:Logo-steamlinux.svg)2019-01-31[22]$5.99[23]71163\\n(/File:OFLC_smal\\nNot long after, during a brief moment when \"Tails\" was exploring the beaches EU (/File:Logo-steamosx.svg)2019-01-31[22]€4.49[23]71163\\nof West Side on his own, he came across the Tornado, glittering in the sun. (/File:PEGI_3_20\\nSpotting it in the distance, he became extremely excited, running as fast as he DE (/File:Logo-steamosx.svg)2019-01-31[22]€4.49[23]71163 (/File:USK_6\\ncould towards it. Engrossed in its design, he wondered who the plane belonged\\nto. He didn\\'t have to wait too long when, out of the corner of his eye, the fox UK (/File:Logo-steamosx.svg)2019-01-31[22]£3.99[23]71163\\n(/File:PEGI_3_20'"
      ]
     },
     "execution_count": 23,
     "metadata": {},
     "output_type": "execute_result"
    }
   ],
   "source": [
    "extract_pdf_text(file_path)[1]"
   ]
  },
  {
   "cell_type": "code",
   "execution_count": null,
   "metadata": {},
   "outputs": [],
   "source": [
    "\\n+\\n(?:\\N+\\n\\n)"
   ]
  }
 ],
 "metadata": {
  "kernelspec": {
   "display_name": "gpu_tf",
   "language": "python",
   "name": "python3"
  },
  "language_info": {
   "codemirror_mode": {
    "name": "ipython",
    "version": 3
   },
   "file_extension": ".py",
   "mimetype": "text/x-python",
   "name": "python",
   "nbconvert_exporter": "python",
   "pygments_lexer": "ipython3",
   "version": "3.10.14"
  }
 },
 "nbformat": 4,
 "nbformat_minor": 2
}
