{
 "cells": [
  {
   "cell_type": "code",
   "execution_count": 1,
   "metadata": {},
   "outputs": [
    {
     "name": "stderr",
     "output_type": "stream",
     "text": [
      "c:\\Users\\Alex\\ProjectCSurvival\\rag\\retrieval.py:146: SyntaxWarning: assertion is always true, perhaps remove parentheses?\n",
      "  assert(len(summary_files) == len(summary_embeddings), \"Summary text files should directly map to summary embedding files.\")\n",
      "c:\\Users\\Alex\\ProjectCSurvival\\rag\\retrieval.py:181: SyntaxWarning: assertion is always true, perhaps remove parentheses?\n",
      "  assert(len(embedding_files) == len(embedding_texts), \"Embedding raw text files should directly map to embedding data files.\")\n"
     ]
    },
    {
     "name": "stdout",
     "output_type": "stream",
     "text": [
      "Loading transformer model and tokenizer from transformers library: avsolatorio/NoInstruct-small-Embedding-v0\n",
      "Please wait...\n",
      "\n"
     ]
    }
   ],
   "source": [
    "from retrieval import Retrieval\n",
    "retrieval = Retrieval(\"..\\context\\knowledge_base\")"
   ]
  },
  {
   "cell_type": "code",
   "execution_count": 2,
   "metadata": {},
   "outputs": [
    {
     "name": "stdout",
     "output_type": "stream",
     "text": [
      "Embedding user query for dense retrieval:\n"
     ]
    },
    {
     "name": "stderr",
     "output_type": "stream",
     "text": [
      "c:\\Users\\Alex\\anaconda3\\envs\\gpu_tf\\lib\\site-packages\\transformers\\models\\bert\\modeling_bert.py:440: UserWarning: 1Torch was not compiled with flash attention. (Triggered internally at C:\\actions-runner\\_work\\pytorch\\pytorch\\builder\\windows\\pytorch\\aten\\src\\ATen\\native\\transformers\\cuda\\sdp_utils.cpp:555.)\n",
      "  attn_output = torch.nn.functional.scaled_dot_product_attention(\n"
     ]
    },
    {
     "name": "stdout",
     "output_type": "stream",
     "text": [
      "Finding best article to use as context with dense retrieval:\n",
      "Using Wikipedia article: Animation for context\n",
      "Found 56 chunks for within context.\n",
      "Finding best article chunks to use as context with dense retrieval:\n",
      "Context successfully retrieved.\n"
     ]
    },
    {
     "data": {
      "text/plain": [
       "['The physical movement of image parts through simple mechanics—for instance, moving images in magic lantern shows—can also be considered animation. The mechanical manipulation of three-dimensional puppets and objects to emulate living beings has a very long history in automata. Electronic automata were popularized by Disney as animatronics.']"
      ]
     },
     "execution_count": 2,
     "metadata": {},
     "output_type": "execute_result"
    }
   ],
   "source": [
    "retrieval.get_context(\"What is the first principle of animation?\", num_contexts=1, use_sparse_retrieval=False)"
   ]
  },
  {
   "cell_type": "code",
   "execution_count": null,
   "metadata": {},
   "outputs": [
    {
     "name": "stdout",
     "output_type": "stream",
     "text": [
      "Embedding user query for dense retrieval:\n",
      "Loading all document chunk embeddings into memory...\n",
      "Found 1984 chunks for within context.\n",
      "Finding best article chunks to use as context with dense retrieval:\n",
      "Context successfully retrieved.\n"
     ]
    },
    {
     "data": {
      "text/plain": [
       "['The physical movement of image parts through simple mechanics—for instance, moving images in magic lantern shows—can also be considered animation. The mechanical manipulation of three-dimensional puppets and objects to emulate living beings has a very long history in automata. Electronic automata were popularized by Disney as animatronics.']"
      ]
     },
     "execution_count": 4,
     "metadata": {},
     "output_type": "execute_result"
    }
   ],
   "source": [
    "retrieval.get_context(\"What is the first principle of animation?\", num_contexts=1, use_sparse_retrieval=False, exhaustive=True)"
   ]
  },
  {
   "cell_type": "code",
   "execution_count": 3,
   "metadata": {},
   "outputs": [
    {
     "name": "stdout",
     "output_type": "stream",
     "text": [
      "Embedding user query for dense retrieval:\n",
      "Finding best article to use as context with sparse retrieval:\n",
      "Using Wikipedia article: Altruism for context\n",
      "Found 72 chunks for within context.\n",
      "Finding best article chunks to use as context with dense retrieval:\n",
      "Context successfully retrieved.\n"
     ]
    },
    {
     "data": {
      "text/plain": [
       "['Some of the proposed mechanisms are: ']"
      ]
     },
     "execution_count": 3,
     "metadata": {},
     "output_type": "execute_result"
    }
   ],
   "source": [
    "retrieval.get_context(\"What is the first principle of animation?\", num_contexts=1, use_sparse_retrieval=True)"
   ]
  }
 ],
 "metadata": {
  "kernelspec": {
   "display_name": "gpu_tf",
   "language": "python",
   "name": "python3"
  },
  "language_info": {
   "codemirror_mode": {
    "name": "ipython",
    "version": 3
   },
   "file_extension": ".py",
   "mimetype": "text/x-python",
   "name": "python",
   "nbconvert_exporter": "python",
   "pygments_lexer": "ipython3",
   "version": "3.10.14"
  }
 },
 "nbformat": 4,
 "nbformat_minor": 2
}
