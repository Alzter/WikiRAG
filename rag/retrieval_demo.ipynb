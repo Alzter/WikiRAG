{
 "cells": [
  {
   "cell_type": "code",
   "execution_count": 1,
   "metadata": {},
   "outputs": [
    {
     "name": "stderr",
     "output_type": "stream",
     "text": [
      "c:\\Users\\Alex\\ProjectCSurvival\\rag\\retrieval.py:175: SyntaxWarning: assertion is always true, perhaps remove parentheses?\n",
      "  assert(len(embedding_files) == len(embedding_texts), \"Embedding raw text files should directly map to embedding data files.\")\n"
     ]
    },
    {
     "name": "stdout",
     "output_type": "stream",
     "text": [
      "Loading transformer model and tokenizer from transformers library: avsolatorio/NoInstruct-small-Embedding-v0\n",
      "Please wait...\n",
      "\n"
     ]
    }
   ],
   "source": [
    "from retrieval import Retrieval\n",
    "retrieval = Retrieval(\"..\\context\\knowledge_base\")"
   ]
  },
  {
   "cell_type": "code",
   "execution_count": null,
   "metadata": {},
   "outputs": [
    {
     "name": "stdout",
     "output_type": "stream",
     "text": [
      "Loading all document chunk embeddings into memory...\n"
     ]
    },
    {
     "name": "stderr",
     "output_type": "stream",
     "text": [
      "c:\\Users\\Alex\\anaconda3\\envs\\gpu_tf\\lib\\site-packages\\transformers\\models\\bert\\modeling_bert.py:440: UserWarning: 1Torch was not compiled with flash attention. (Triggered internally at C:\\actions-runner\\_work\\pytorch\\pytorch\\builder\\windows\\pytorch\\aten\\src\\ATen\\native\\transformers\\cuda\\sdp_utils.cpp:555.)\n",
      "  attn_output = torch.nn.functional.scaled_dot_product_attention(\n"
     ]
    }
   ],
   "source": [
    "retrieval.get_context(\"What is the first principle of animation?\", num_contexts=1, use_sparse_retrieval=False)"
   ]
  },
  {
   "cell_type": "code",
   "execution_count": 6,
   "metadata": {},
   "outputs": [
    {
     "name": "stdout",
     "output_type": "stream",
     "text": [
      "Finding best article to use as context with sparse retrieval:\n",
      "Using Wikipedia article: Altruism for context\n",
      "Found 72 chunks within article.\n",
      "Embedding user query for dense retrieval:\n",
      "Finding best article chunks to use as context with dense retrieval:\n",
      "Context successfully retrieved.\n"
     ]
    },
    {
     "data": {
      "text/plain": [
       "['Some of the proposed mechanisms are: ']"
      ]
     },
     "execution_count": 6,
     "metadata": {},
     "output_type": "execute_result"
    }
   ],
   "source": [
    "retrieval.get_context(\"What is the first principle of animation?\", num_contexts=1, use_sparse_retrieval=True)"
   ]
  },
  {
   "cell_type": "code",
   "execution_count": 3,
   "metadata": {},
   "outputs": [
    {
     "data": {
      "text/plain": [
       "'A, or a, is the first letter and the first vowel letter of the Latin alphabet, used in the modern English alphabet, and others worldwide. Its name in English is \"a\" (pronounced ), plural \"aes\".'"
      ]
     },
     "execution_count": 3,
     "metadata": {},
     "output_type": "execute_result"
    }
   ],
   "source": [
    "retrieval.documents[0].summary"
   ]
  },
  {
   "cell_type": "code",
   "execution_count": 4,
   "metadata": {},
   "outputs": [],
   "source": [
    "embeddings = retrieval.get_document_embeddings(\"A\")"
   ]
  },
  {
   "cell_type": "code",
   "execution_count": 6,
   "metadata": {},
   "outputs": [
    {
     "data": {
      "text/plain": [
       "array([[-4.0845e-01, -4.0625e-01,  5.1727e-03, -2.1924e-01, -1.2695e-01,\n",
       "         1.7517e-01, -2.1277e-01,  2.0215e-01, -7.7271e-02, -1.7786e-01,\n",
       "         2.6587e-01, -2.4268e-01, -4.2603e-02, -4.9072e-01,  1.6724e-01,\n",
       "        -4.3579e-01, -1.3049e-01, -3.1204e-02,  9.3140e-02,  3.7573e-01,\n",
       "         8.0371e-01,  1.8567e-01,  3.6865e-01, -3.4937e-01,  4.2627e-01,\n",
       "         6.8799e-01, -3.2666e-01, -8.1604e-02, -1.2915e-01, -2.0645e+00,\n",
       "        -4.6501e-03, -1.0541e-01,  5.6592e-01, -2.2949e-01, -3.0103e-01,\n",
       "         1.3794e-01, -6.0645e-01,  4.7803e-01, -2.0239e-01,  1.0205e-01,\n",
       "         2.0483e-01,  2.8076e-01, -8.5754e-03, -1.7285e-01, -2.8882e-01,\n",
       "        -1.6345e-01, -3.8794e-01, -1.5344e-01,  2.8931e-02, -1.5491e-01,\n",
       "        -1.5283e-01, -9.1980e-02,  2.4243e-01,  4.9194e-02, -7.8430e-02,\n",
       "         1.9507e-01,  3.8818e-01,  2.3877e-01, -6.4392e-02,  6.5088e-01,\n",
       "         3.3081e-01, -1.0077e-01, -1.8311e+00,  6.8896e-01,  3.1641e-01,\n",
       "         2.2729e-01, -1.5747e-01, -1.5112e-01, -1.0004e-01,  6.1865e-01,\n",
       "        -4.1821e-01,  2.3518e-03,  3.0103e-01,  6.0059e-01, -2.0984e-01,\n",
       "        -3.2275e-01,  1.4978e-01, -5.8594e-01,  2.2461e-01, -9.7656e-03,\n",
       "        -2.5781e-01, -4.3237e-01, -2.5586e-01,  2.5195e-01, -4.0601e-01,\n",
       "        -1.1377e-01,  2.2729e-01, -7.2363e-01,  5.4248e-01,  2.3755e-01,\n",
       "        -3.7524e-01, -3.7573e-01,  5.0354e-02,  3.7549e-01, -4.7095e-01,\n",
       "        -1.5332e-01, -2.5421e-02, -7.5150e-03,  3.8452e-01,  3.7695e+00,\n",
       "        -7.6904e-02, -1.1102e-01,  4.7949e-01, -7.3975e-02,  4.2847e-01,\n",
       "        -4.8535e-01,  3.8965e-01, -8.5107e-01, -1.5491e-01, -1.2659e-01,\n",
       "        -5.7324e-01, -1.1139e-01,  3.2690e-01, -2.8589e-01, -1.9739e-01,\n",
       "        -2.7710e-01,  3.7402e-01,  1.2170e-01,  4.1351e-03, -1.1591e-01,\n",
       "        -9.6741e-02,  8.5144e-02, -6.2842e-01, -5.2490e-01,  5.2783e-01,\n",
       "        -5.3418e-01,  5.3418e-01,  4.0796e-01,  3.4009e-01,  2.6758e-01,\n",
       "         3.0713e-01,  6.5125e-02,  7.6782e-02, -2.4902e-01,  4.2908e-02,\n",
       "         5.4053e-01, -1.0052e-01, -6.0310e-03,  8.4778e-02, -1.7896e-01,\n",
       "        -8.9417e-02, -7.2803e-01, -6.3293e-02,  7.7087e-02, -2.0874e-01,\n",
       "         1.2627e+00, -3.8159e-01,  2.3779e-01, -1.7090e-01,  2.4683e-01,\n",
       "         2.0123e-03,  2.7393e-01,  2.0239e-01, -2.1362e-01, -6.5186e-02,\n",
       "        -9.7534e-02,  2.9321e-01,  3.3008e-01, -5.1172e-01, -1.3135e-01,\n",
       "         8.7833e-04,  1.4685e-01, -8.6328e-01,  8.3057e-01,  1.7725e-01,\n",
       "        -1.1504e+00, -8.2825e-02,  3.8232e-01,  1.3660e-01, -9.4910e-02,\n",
       "         4.6289e-01, -6.1951e-03,  1.1835e-01,  1.9604e-01,  6.9385e-01,\n",
       "         2.0642e-01, -3.7769e-01, -2.3621e-01,  5.7373e-01,  4.4141e-01,\n",
       "         5.4639e-01, -2.0801e-01, -3.5693e-01, -1.2891e-01,  2.5464e-01,\n",
       "        -1.1243e-01, -1.8018e-01, -1.3416e-01,  6.3477e-01,  2.0374e-01,\n",
       "         2.1899e-01,  6.3867e-01, -1.7944e-01, -3.6401e-01, -5.9570e-01,\n",
       "         8.9355e-02,  2.7100e-01,  1.8115e-01, -2.3279e-01,  5.7422e-01,\n",
       "         6.3525e-01,  1.8689e-01, -4.7900e-01, -1.1188e-01,  4.4507e-01,\n",
       "         5.2295e-01,  5.8057e-01, -2.0032e-01,  2.7612e-01, -2.9541e-01,\n",
       "         9.4177e-02,  1.8823e-01,  2.8369e-01, -1.9812e-01,  9.3460e-03,\n",
       "        -1.8298e-01,  1.0010e-01,  1.1285e-01,  4.8096e-02,  5.5811e-01,\n",
       "        -1.2769e-01, -1.1426e+00, -5.5566e-01, -2.6758e+00, -1.2103e-01,\n",
       "        -1.6553e-01, -4.6411e-01,  2.4365e-01, -9.9792e-02,  1.0205e-01,\n",
       "        -4.5386e-01, -5.3986e-02, -1.4148e-01,  8.6230e-01, -4.3750e-01,\n",
       "        -5.6702e-02, -2.2964e-02, -4.8511e-01,  4.4629e-01,  1.4880e-01,\n",
       "        -2.7051e-01,  3.2745e-02, -1.0760e-01, -2.2559e-01,  3.6230e-01,\n",
       "        -2.4976e-01, -3.9990e-01,  7.8857e-01,  4.7119e-01,  1.6465e+00,\n",
       "         4.8022e-01,  2.3865e-01, -1.1475e-01, -6.9824e-02,  1.3367e-01,\n",
       "         1.7532e-02, -4.2505e-01,  2.5562e-01, -1.1859e-01,  5.6976e-02,\n",
       "        -3.6475e-01, -5.2930e-01, -3.8379e-01, -2.2919e-02,  4.5990e-02,\n",
       "         1.9971e-01, -4.7437e-01, -7.7271e-02, -3.2690e-01, -9.4849e-02,\n",
       "        -1.7297e-01, -1.7725e-01,  2.2900e-01,  3.8330e-01, -1.8994e-01,\n",
       "         2.5681e-02,  2.7686e-01,  1.3318e-01, -1.8323e-01, -8.7012e-01,\n",
       "        -1.3892e-01,  1.2976e-01, -2.9980e-01,  1.8604e-01, -2.9297e-01,\n",
       "         6.9092e-01,  2.7866e-03,  1.6504e-01,  5.0830e-01, -2.1948e-01,\n",
       "        -3.7354e-01,  4.3793e-02, -6.6284e-02, -4.3579e-01,  6.7383e-01,\n",
       "        -3.2446e-01, -2.9639e-01,  4.8877e-01,  3.1274e-01,  3.2788e-01,\n",
       "         3.7939e-01, -1.5002e-01, -2.6099e-01,  4.3518e-02, -4.3359e-01,\n",
       "         2.3328e-01,  2.2791e-01,  1.7969e-01, -6.6650e-02,  1.1833e-02,\n",
       "         5.7983e-02,  1.0925e-01, -3.5425e-01, -2.1667e-01,  1.2805e-01,\n",
       "         1.6553e-01,  2.5299e-02, -2.2192e-01, -3.9990e-01, -3.1895e+00,\n",
       "         6.2805e-02, -1.8530e-01,  2.2803e-01, -9.0149e-02, -7.1289e-02,\n",
       "        -1.2152e-01, -1.3440e-01,  7.4720e-04, -1.4465e-01, -9.2773e-02,\n",
       "         5.8984e-01,  1.6614e-01, -2.1252e-01, -3.8721e-01, -2.3575e-02,\n",
       "         8.1104e-01, -5.1849e-02,  7.2998e-02, -5.7080e-01,  8.3557e-02,\n",
       "         2.8516e-01,  2.0352e+00, -2.1838e-01, -2.0312e-01, -4.2578e-01,\n",
       "        -1.1337e-02,  3.1738e-01, -2.3572e-01, -5.2979e-02,  3.3008e-01,\n",
       "        -7.0618e-02,  1.0078e+00, -1.6284e-01,  1.7688e-01,  2.5220e-01,\n",
       "        -3.3276e-01,  3.8721e-01, -4.4647e-02, -1.0016e-01, -4.7437e-01,\n",
       "        -9.5291e-03, -7.2900e-01, -3.0685e-02,  4.3823e-01,  2.7466e-01,\n",
       "        -5.1953e-01,  4.5190e-01,  2.8589e-01, -2.7466e-01, -3.0078e-01,\n",
       "         6.2134e-02,  1.1011e-01, -3.9635e-03,  3.5034e-01,  4.8511e-01,\n",
       "        -7.9639e-01, -5.7343e-02, -1.4392e-01,  3.4058e-02, -8.6288e-03,\n",
       "         7.2754e-02,  1.1682e-01,  8.0029e-01,  6.6504e-01]],\n",
       "      dtype=float16)"
      ]
     },
     "execution_count": 6,
     "metadata": {},
     "output_type": "execute_result"
    }
   ],
   "source": [
    "embeddings[1].vector"
   ]
  },
  {
   "cell_type": "code",
   "execution_count": null,
   "metadata": {},
   "outputs": [],
   "source": []
  }
 ],
 "metadata": {
  "kernelspec": {
   "display_name": "gpu_tf",
   "language": "python",
   "name": "python3"
  },
  "language_info": {
   "codemirror_mode": {
    "name": "ipython",
    "version": 3
   },
   "file_extension": ".py",
   "mimetype": "text/x-python",
   "name": "python",
   "nbconvert_exporter": "python",
   "pygments_lexer": "ipython3",
   "version": "3.10.14"
  }
 },
 "nbformat": 4,
 "nbformat_minor": 2
}
