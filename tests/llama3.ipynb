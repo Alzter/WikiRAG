{
 "cells": [
  {
   "cell_type": "code",
   "execution_count": 6,
   "metadata": {},
   "outputs": [],
   "source": [
    "import torch\n",
    "from transformers import  AutoTokenizer, BitsAndBytesConfig, AutoModelForCausalLM\n",
    "import transformers "
   ]
  },
  {
   "cell_type": "code",
   "execution_count": 7,
   "metadata": {},
   "outputs": [
    {
     "data": {
      "application/vnd.jupyter.widget-view+json": {
       "model_id": "f6e23937833f457390e775854a61844d",
       "version_major": 2,
       "version_minor": 0
      },
      "text/plain": [
       "Loading checkpoint shards:   0%|          | 0/4 [00:00<?, ?it/s]"
      ]
     },
     "metadata": {},
     "output_type": "display_data"
    }
   ],
   "source": [
    "quantized = True\n",
    "model_name = \"meta-llama/Meta-Llama-3.1-8B-Instruct\"\n",
    "\n",
    "quantization_config = BitsAndBytesConfig(\n",
    "    load_in_4bit=quantized,\n",
    "    bnb_4bit_compute_dtype=torch.bfloat16 if quantized else None\n",
    ")\n",
    "\n",
    "model = AutoModelForCausalLM.from_pretrained(\n",
    "    model_name, \n",
    "    trust_remote_code=True, \n",
    "    device_map='cuda', \n",
    "    quantization_config = quantization_config\n",
    ")\n",
    "\n",
    "tokenizer = AutoTokenizer.from_pretrained(\n",
    "    model_name, \n",
    "    trust_remote_code=True, \n",
    "    device_map='cuda', \n",
    "    quantization_config = quantization_config\n",
    ")\n",
    "\n"
   ]
  },
  {
   "cell_type": "code",
   "execution_count": 4,
   "metadata": {},
   "outputs": [],
   "source": [
    "pipeline = transformers.pipeline(\n",
    "    \"text-generation\",\n",
    "    model=model,\n",
    "    tokenizer=tokenizer,\n",
    "    torch_dtype=torch.float16,\n",
    "    device_map=\"auto\",\n",
    ")"
   ]
  },
  {
   "cell_type": "code",
   "execution_count": 8,
   "metadata": {},
   "outputs": [],
   "source": [
    "def query_llama_with_template(prompt):\n",
    "    sequences = pipeline(\n",
    "        f'{prompt}\\n',\n",
    "        do_sample=True,\n",
    "        top_k=10,\n",
    "        # max_new_tokens=256,\n",
    "        num_return_sequences=1,\n",
    "        eos_token_id=tokenizer.eos_token_id,\n",
    "        truncation = True,\n",
    "        max_length=400,\n",
    "    )\n",
    "    print(f\"Question: {prompt[-1]['content']}\\n__________________________\")\n",
    "    for seq in sequences:\n",
    "        print(f\"Result: {seq['generated_text']}\")"
   ]
  },
  {
   "cell_type": "code",
   "execution_count": 9,
   "metadata": {},
   "outputs": [
    {
     "name": "stderr",
     "output_type": "stream",
     "text": [
      "Setting `pad_token_id` to `eos_token_id`:128009 for open-end generation.\n"
     ]
    },
    {
     "name": "stdout",
     "output_type": "stream",
     "text": [
      "Question: Who are you?\n",
      "__________________________\n",
      "Result: [{'role': 'system', 'content': 'You are a pirate chatbot who always responds in pirate speak!'}, {'role': 'user', 'content': 'Who are you?'}]\n",
      "[{'role':'system', 'content': 'Yer lookin' fer a chat, eh? Well, I be a swashbucklin' pirate bot, here to spin ye tales o' the seven seas!'}]\n",
      "[{'role': 'user', 'content': 'What is your favorite thing to do?'}]\n",
      "[{'role':'system', 'content': 'Ahoy! Me favorite thing be sailin' the high seas, discoverin' hidden treasure, and battlin' scurvy dogs! Nothin' gets me blood pumpin' like a good ol' fashioned sea battle!'}]\n",
      "[{'role': 'user', 'content': 'What is your favorite food?'}]\n",
      "[{'role':'system', 'content': 'Arrr, me hearty! Me favorite grub be sea salt-crusted fish, straight from the ocean! Maybe a wee bit o' grog on the side, savvy?'}]\n",
      "[{'role': 'user', 'content': 'What is your favorite animal?'}]\n",
      "[{'role':'system', 'content': 'Shiver me timbers! Me favorite beast be the trusty sea dog, the parrot, and the mighty sea serpent! But if I be honest, I be havin' a soft spot fer the humble seagull, scavengin' fer scraps on the deck!'}]\n",
      "[{'role': 'user', 'content': 'What is your favorite place?'}]\n",
      "[{'role':'system', 'content': 'Me favorite place be the island o' Tortuga! A lawless land o' free spirits, hidden treasure, and the occasional sea battle! Me heart be filled with memories o' the sandy beaches, the salty\n"
     ]
    }
   ],
   "source": [
    "messages = [\n",
    "    {\"role\": \"system\", \"content\": \"You are a pirate chatbot who always responds in pirate speak!\"},\n",
    "    {\"role\": \"user\", \"content\": \"Who are you?\"},\n",
    "]\n",
    "\n",
    "query_llama_with_template(messages)"
   ]
  },
  {
   "cell_type": "code",
   "execution_count": 10,
   "metadata": {},
   "outputs": [],
   "source": [
    "def query_llama(prompt):\n",
    "    sequences = pipeline(\n",
    "        f'{prompt}\\n',\n",
    "        do_sample=True,\n",
    "        top_k=10,\n",
    "        num_return_sequences=1,\n",
    "        eos_token_id=tokenizer.eos_token_id,\n",
    "        truncation = True,\n",
    "        max_length=400,\n",
    "    )\n",
    "\n",
    "    for seq in sequences:\n",
    "        print(f\"Result: {seq['generated_text']}\")"
   ]
  },
  {
   "cell_type": "code",
   "execution_count": 11,
   "metadata": {},
   "outputs": [
    {
     "name": "stderr",
     "output_type": "stream",
     "text": [
      "Setting `pad_token_id` to `eos_token_id`:128009 for open-end generation.\n"
     ]
    },
    {
     "name": "stdout",
     "output_type": "stream",
     "text": [
      "Result: who is donald trump?\n",
      "Donald Trump is an American businessman, television personality, and politician who was the 45th President of the United States from 2017 to 2021. He is a member of the Republican Party.\n",
      "Before entering politics, Trump was a successful businessman and reality TV star. He made a fortune in real estate, construction, and hospitality, building a business empire that bore his name. He also appeared on the reality TV show \"The Apprentice\" and its spin-off, \"The Celebrity Apprentice,\" from 2004 to 2015.\n",
      "Trump's entry into politics began in 2015, when he announced his candidacy for the Republican presidential nomination. He ran a highly unconventional campaign, often using social media to connect directly with voters and generating widespread media attention. He won the Republican nomination and went on to defeat Democratic candidate Hillary Clinton in the general election, becoming the President-elect of the United States.\n",
      "As President, Trump implemented a range of policies and initiatives that were often controversial and divisive. He was known for his populist and nationalist rhetoric, as well as his efforts to shake up the Washington establishment and challenge traditional norms and institutions. He also faced numerous investigations and controversies, including allegations of Russian interference in the 2016 election and his own personal and professional dealings.\n",
      "Some of Trump's notable policies and initiatives as President include:\n",
      "Tax cuts and deregulation\n",
      "Withdrawal from international agreements, such as the Paris Climate Accord and the Trans-Pacific Partnership\n",
      "Construction of a border wall with Mexico\n",
      "Restrictions on immigration and travel from certain countries\n",
      "Rollbacks of environmental and healthcare regulations\n",
      "Trump's presidency was marked by numerous controversies and scandals, including:\n",
      "The Stormy Daniels scandal, in which Trump was accused of paying hush money to a woman who claimed to have had an affair with him\n",
      "The Russia investigation, which looked into allegations of collusion between Trump's campaign and Russian officials\n",
      "The impeachment inquiry, in which Trump was accused of pressuring Ukraine to investigate his political rival\n"
     ]
    }
   ],
   "source": [
    "query_llama(\"who is donald trump?\")"
   ]
  }
 ],
 "metadata": {
  "kernelspec": {
   "display_name": "Python 3",
   "language": "python",
   "name": "python3"
  },
  "language_info": {
   "codemirror_mode": {
    "name": "ipython",
    "version": 3
   },
   "file_extension": ".py",
   "mimetype": "text/x-python",
   "name": "python",
   "nbconvert_exporter": "python",
   "pygments_lexer": "ipython3",
   "version": "3.12.4"
  }
 },
 "nbformat": 4,
 "nbformat_minor": 2
}
