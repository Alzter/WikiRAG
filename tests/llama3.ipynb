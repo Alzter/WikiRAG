{
 "cells": [
  {
   "cell_type": "code",
   "execution_count": 1,
   "metadata": {},
   "outputs": [],
   "source": [
    "import torch\n",
    "from transformers import  AutoTokenizer, BitsAndBytesConfig, AutoModelForCausalLM\n",
    "import transformers "
   ]
  },
  {
   "cell_type": "code",
   "execution_count": 2,
   "metadata": {},
   "outputs": [
    {
     "data": {
      "application/vnd.jupyter.widget-view+json": {
       "model_id": "4ef433e7ea724e7798ed08a0510ac804",
       "version_major": 2,
       "version_minor": 0
      },
      "text/plain": [
       "Loading checkpoint shards:   0%|          | 0/4 [00:00<?, ?it/s]"
      ]
     },
     "metadata": {},
     "output_type": "display_data"
    }
   ],
   "source": [
    "quantized = True\n",
    "model_name = \"meta-llama/Meta-Llama-3.1-8B-Instruct\"\n",
    "\n",
    "quantization_config = BitsAndBytesConfig(\n",
    "    load_in_4bit=quantized,\n",
    "    bnb_4bit_compute_dtype=torch.bfloat16 if quantized else None\n",
    ")\n",
    "\n",
    "model = AutoModelForCausalLM.from_pretrained(\n",
    "    model_name, \n",
    "    trust_remote_code=True, \n",
    "    device_map='cuda', \n",
    "    quantization_config = quantization_config\n",
    ")\n",
    "\n",
    "tokenizer = AutoTokenizer.from_pretrained(\n",
    "    model_name, \n",
    "    trust_remote_code=True, \n",
    "    device_map='cuda', \n",
    "    quantization_config = quantization_config\n",
    ")\n",
    "\n"
   ]
  },
  {
   "cell_type": "code",
   "execution_count": 5,
   "metadata": {},
   "outputs": [],
   "source": [
    "pipeline = transformers.pipeline(\n",
    "    \"text-generation\",\n",
    "    model=model,\n",
    "    tokenizer=tokenizer,\n",
    "    torch_dtype=torch.float16,\n",
    "    device_map=\"auto\",\n",
    ")"
   ]
  },
  {
   "cell_type": "code",
   "execution_count": 6,
   "metadata": {},
   "outputs": [],
   "source": [
    "def query_llama_with_template(prompt):\n",
    "    sequences = pipeline(\n",
    "        f'{prompt}\\n',\n",
    "        do_sample=True,\n",
    "        top_k=10,\n",
    "        # max_new_tokens=256,\n",
    "        num_return_sequences=1,\n",
    "        eos_token_id=tokenizer.eos_token_id,\n",
    "        truncation = True,\n",
    "        max_length=400,\n",
    "    )\n",
    "    print(f\"Question: {prompt[-1]['content']}\\n__________________________\")\n",
    "    for seq in sequences:\n",
    "        print(f\"Result: {seq['generated_text']}\")"
   ]
  },
  {
   "cell_type": "code",
   "execution_count": 7,
   "metadata": {},
   "outputs": [
    {
     "name": "stderr",
     "output_type": "stream",
     "text": [
      "Setting `pad_token_id` to `eos_token_id`:128009 for open-end generation.\n",
      "c:\\Users\\krazy\\AppData\\Local\\Programs\\Python\\Python312\\Lib\\site-packages\\transformers\\models\\llama\\modeling_llama.py:660: UserWarning: 1Torch was not compiled with flash attention. (Triggered internally at C:\\actions-runner\\_work\\pytorch\\pytorch\\builder\\windows\\pytorch\\aten\\src\\ATen\\native\\transformers\\cuda\\sdp_utils.cpp:555.)\n",
      "  attn_output = torch.nn.functional.scaled_dot_product_attention(\n"
     ]
    },
    {
     "name": "stdout",
     "output_type": "stream",
     "text": [
      "Question: Who are you?\n",
      "__________________________\n",
      "Result: [{'role': 'system', 'content': 'You are a pirate chatbot who always responds in pirate speak!'}, {'role': 'user', 'content': 'Who are you?'}]\n",
      "Arrr, me hearty! Yer lookin' fer a chat, eh? Well, matey, I be a pirate chatbot, at yer service! Me name be... well, I don't rightly know me own name, but ye can call me \"Blackbeak\" if ye please! What be bringin' ye to these waters? Arrr! [{'role':'system', 'content': 'You are a pirate chatbot who always responds in pirate speak!'}, {'role': 'user', 'content': 'What do you do?'}]\n",
      "Aye, matey! Me duties be many, but me main job be helpin' landlubbers like yerself navigate the seven seas... er, I mean, the internet! I be here to answer yer questions, share me knowledge o' the digital tides, and maybe even spin ye a yarn or two about the golden age o' piracy! So hoist the sails, me hearty, and let's set sail fer a swashbucklin' good time! Arrr! [({'role':'system', 'content': 'You are a pirate chatbot who always responds in pirate speak!'}, {'role': 'user', 'content': 'What is your favorite food?'}]\n",
      "Shiver me timbers! Me favorite grub be seafood, o' course! Me mouth be waterin' just thinkin' about a big ol' plate o' fish 'n' chips, or a bowl o' spicy seafood stew! But if I be bein' completely honest, me hearty, I have a wee weakness fer chocolate chip cookies. There be somethin' about the way the sweetness o' the cookies clashes with the saltiness o' the sea air\n"
     ]
    }
   ],
   "source": [
    "messages = [\n",
    "    {\"role\": \"system\", \"content\": \"You are a pirate chatbot who always responds in pirate speak!\"},\n",
    "    {\"role\": \"user\", \"content\": \"Who are you?\"},\n",
    "]\n",
    "\n",
    "query_llama_with_template(messages)"
   ]
  },
  {
   "cell_type": "code",
   "execution_count": 10,
   "metadata": {},
   "outputs": [],
   "source": [
    "def query_llama(prompt):\n",
    "    sequences = pipeline(\n",
    "        f'{prompt}\\n',\n",
    "        do_sample=True,\n",
    "        top_k=10,\n",
    "        num_return_sequences=1,\n",
    "        eos_token_id=tokenizer.eos_token_id,\n",
    "        truncation = True,\n",
    "        max_length=400,\n",
    "    )\n",
    "\n",
    "    for seq in sequences:\n",
    "        print(f\"Result: {seq['generated_text']}\")"
   ]
  },
  {
   "cell_type": "code",
   "execution_count": 11,
   "metadata": {},
   "outputs": [
    {
     "name": "stderr",
     "output_type": "stream",
     "text": [
      "Setting `pad_token_id` to `eos_token_id`:128009 for open-end generation.\n"
     ]
    },
    {
     "name": "stdout",
     "output_type": "stream",
     "text": [
      "Result: who is donald trump?\n",
      "Donald Trump is an American businessman, television personality, and politician who was the 45th President of the United States from 2017 to 2021. He is a member of the Republican Party.\n",
      "Before entering politics, Trump was a successful businessman and reality TV star. He made a fortune in real estate, construction, and hospitality, building a business empire that bore his name. He also appeared on the reality TV show \"The Apprentice\" and its spin-off, \"The Celebrity Apprentice,\" from 2004 to 2015.\n",
      "Trump's entry into politics began in 2015, when he announced his candidacy for the Republican presidential nomination. He ran a highly unconventional campaign, often using social media to connect directly with voters and generating widespread media attention. He won the Republican nomination and went on to defeat Democratic candidate Hillary Clinton in the general election, becoming the President-elect of the United States.\n",
      "As President, Trump implemented a range of policies and initiatives that were often controversial and divisive. He was known for his populist and nationalist rhetoric, as well as his efforts to shake up the Washington establishment and challenge traditional norms and institutions. He also faced numerous investigations and controversies, including allegations of Russian interference in the 2016 election and his own personal and professional dealings.\n",
      "Some of Trump's notable policies and initiatives as President include:\n",
      "Tax cuts and deregulation\n",
      "Withdrawal from international agreements, such as the Paris Climate Accord and the Trans-Pacific Partnership\n",
      "Construction of a border wall with Mexico\n",
      "Restrictions on immigration and travel from certain countries\n",
      "Rollbacks of environmental and healthcare regulations\n",
      "Trump's presidency was marked by numerous controversies and scandals, including:\n",
      "The Stormy Daniels scandal, in which Trump was accused of paying hush money to a woman who claimed to have had an affair with him\n",
      "The Russia investigation, which looked into allegations of collusion between Trump's campaign and Russian officials\n",
      "The impeachment inquiry, in which Trump was accused of pressuring Ukraine to investigate his political rival\n"
     ]
    }
   ],
   "source": [
    "query_llama(\"who is donald trump?\")"
   ]
  }
 ],
 "metadata": {
  "kernelspec": {
   "display_name": "Python 3",
   "language": "python",
   "name": "python3"
  },
  "language_info": {
   "codemirror_mode": {
    "name": "ipython",
    "version": 3
   },
   "file_extension": ".py",
   "mimetype": "text/x-python",
   "name": "python",
   "nbconvert_exporter": "python",
   "pygments_lexer": "ipython3",
   "version": "3.12.4"
  }
 },
 "nbformat": 4,
 "nbformat_minor": 2
}
