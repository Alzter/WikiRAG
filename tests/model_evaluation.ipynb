{
 "cells": [
  {
   "cell_type": "code",
   "execution_count": null,
   "metadata": {},
   "outputs": [],
   "source": [
    "from nltk.translate.bleu_score import sentence_bleu\n",
    "\n",
    "def calculate_n_gram_metrics(reference, candidate):\n",
    "    \n",
    "    rouge_scorer = rouge_scorer.RougeScorer(['rougeN'], use_stemmer=True)\n",
    "    \n",
    "    ref_split, candidate_split = reference.split(\" \"), candidate.split(\" \")\n",
    "    \n",
    "    bleu_score = sentence_bleu(ref_split, candidate_split)\n",
    "    rouge_score = scorer.score(reference, candidate)\n",
    "\n",
    "    return {\n",
    "        \"BLEU\" : bleu_score,\n",
    "        \"ROUGE\" : rouge_score\n",
    "    }"
   ]
  },
  {
   "cell_type": "code",
   "execution_count": null,
   "metadata": {},
   "outputs": [],
   "source": [
    "calculate_n_gram_metrics('The quick brown fox jumps over the lazy dog', 'The quick brown dog jumps on the log.')"
   ]
  }
 ],
 "metadata": {
  "language_info": {
   "name": "python"
  }
 },
 "nbformat": 4,
 "nbformat_minor": 2
}
