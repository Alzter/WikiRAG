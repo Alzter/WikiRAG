{
 "cells": [
  {
   "cell_type": "code",
   "execution_count": 1,
   "metadata": {},
   "outputs": [
    {
     "name": "stdout",
     "output_type": "stream",
     "text": [
      "Zhang, Xiaoming; Wang, Ming; Yang, Xiaocui; Wang, Daling; Feng, Shi; Zhang, Yifei\n"
     ]
    }
   ],
   "source": [
    "import re\n",
    "import numpy as np\n",
    "\n",
    "def arxiv_to_word(author_list : str):\n",
    "\n",
    "    # Remove all text in parentheses from author names.\n",
    "    remove_parenthesis = r\"\\s\\((.*?)\\)\"\n",
    "    author_list = re.sub(remove_parenthesis, \"\", author_list)\n",
    "\n",
    "    query = r\"([^,]*)\\s(\\S*)(?:\\,|$(?<!\\,))\\s*\"\n",
    "    matches = re.findall(query, author_list)\n",
    "\n",
    "    # Get all authors as a 2D array:\n",
    "    # [\n",
    "    #   [\"FirstName\", \"LastName\"],\n",
    "    #   [\"FirstName\", \"LastName\"],\n",
    "    #   [\"FirstName\", \"LastName\"]\n",
    "    # ]\n",
    "    matches = np.array([match for match in matches])\n",
    "\n",
    "    # Flip first names and last names.\n",
    "    matches = np.fliplr(matches)\n",
    "\n",
    "    author_name_strings = [f\"{match[0]}@ {match[1]};\" for match in matches]\n",
    "    \n",
    "    # hacky but it works\n",
    "    author_string = str(author_name_strings).replace(\"'\", '').replace(\",\", '').replace(\"@\", ',')[1:-2]\n",
    "\n",
    "    return author_string\n",
    "\n",
    "print(arxiv_to_word(\"Xiaoming Zhang, Ming Wang, Xiaocui Yang, Daling Wang, Shi Feng, Yifei Zhang\"))"
   ]
  },
  {
   "cell_type": "code",
   "execution_count": null,
   "metadata": {},
   "outputs": [],
   "source": []
  }
 ],
 "metadata": {
  "kernelspec": {
   "display_name": "gpu_tf",
   "language": "python",
   "name": "python3"
  },
  "language_info": {
   "codemirror_mode": {
    "name": "ipython",
    "version": 3
   },
   "file_extension": ".py",
   "mimetype": "text/x-python",
   "name": "python",
   "nbconvert_exporter": "python",
   "pygments_lexer": "ipython3",
   "version": "3.10.14"
  }
 },
 "nbformat": 4,
 "nbformat_minor": 2
}
