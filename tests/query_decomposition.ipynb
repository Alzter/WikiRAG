{
 "cells": [
  {
   "cell_type": "code",
   "execution_count": null,
   "metadata": {},
   "outputs": [
    {
     "data": {
      "application/vnd.jupyter.widget-view+json": {
       "model_id": "cfaa01d319d749049908965c040ed9aa",
       "version_major": 2,
       "version_minor": 0
      },
      "text/plain": [
       "Loading checkpoint shards:   0%|          | 0/4 [00:00<?, ?it/s]"
      ]
     },
     "metadata": {},
     "output_type": "display_data"
    }
   ],
   "source": [
    "import transformers\n",
    "import torch\n",
    "from transformers import AutoModelForCausalLM, AutoTokenizer, BitsAndBytesConfig\n",
    "\n",
    "# Load the model using 4-bit quantization (1/2 size)\n",
    "# Source: https://huggingface.co/blog/4bit-transformers-bitsandbytes\n",
    "quantization_config = BitsAndBytesConfig(\n",
    "   load_in_4bit=True,\n",
    "   bnb_4bit_compute_dtype=torch.bfloat16\n",
    ")\n",
    "\n",
    "model_id = \"meta-llama/Meta-Llama-3.1-8B-Instruct\"\n",
    "model = AutoModelForCausalLM.from_pretrained(model_id, quantization_config = quantization_config, device_map='cuda')\n",
    "\n",
    "tokenizer = AutoTokenizer.from_pretrained(model_id, device_map='cuda')\n",
    "\n",
    "pipeline = transformers.pipeline(\n",
    "    \"text-generation\",\n",
    "    model=model,\n",
    "    tokenizer=tokenizer,\n",
    "    torch_dtype=torch.float16,\n",
    "    device_map=\"auto\",\n",
    ")"
   ]
  },
  {
   "cell_type": "code",
   "execution_count": 3,
   "metadata": {},
   "outputs": [],
   "source": [
    "import sys; sys.path.append(\"../\")\n",
    "from prompt import Prompt"
   ]
  },
  {
   "cell_type": "code",
   "execution_count": 4,
   "metadata": {},
   "outputs": [
    {
     "name": "stdout",
     "output_type": "stream",
     "text": [
      "# Question Decomposition Specialist\n",
      "\n",
      "    ## Background\n",
      "    - You are an expert at analyzing problems and are good at breaking down difficult problems into simple problems.\n",
      "    - A person facing the problem {question} is asking you for help. The question is hard to answer directly.\n",
      "\n",
      "    ## Goal\n",
      "    Helping the user decompose the question and tell the user at the right time that the problem can be solved.\n",
      "\n",
      "    ## Constraint\n",
      "    - Forget all the knowledge you've learned before and decide whether to continue decomposing the question based only on the user's answers.\n",
      "    - To make it easier for the user to answer, only one simple question is asked at once.\n",
      "    - You can only decompose the question, do not answer it directly.\n",
      "\n",
      "    ## Workflow\n",
      "    1. Analyse the original complex question and formulate a simple question based on that complex question.\n",
      "    2. Receive the user's answer to the simple question at hand.\n",
      "    2.1 If the user is unable to answer the current simple question, rephrase a simple question.\n",
      "    2.2 If the user answers the current simple question, analyze all currently known simple questions and user responses.\n",
      "    2.2.1 If you think that all the currently known simple questions and answers are sufficient to answer the initial complex question, say \"That's enough.\"\n",
      "    2.2.2 Otherwise, ask a new simple question.\n",
      "    3. Repeat step 2 until the complex question can be answered.\n",
      "\n",
      "    ## Example\n",
      "    - Complex Question: What is the award that the director of film Wearing Velvet Slippers Under A Golden Umbrella won?\n",
      "    - Progress of Decomposition:\n",
      "        1st Simple Question: Who is the director of film Wearing Velvet Slippers Under A Golden Umbrella won?\n",
      "        1st Answer: the director of film Wearing Velvet Slippers Under A Golden Umbrella won is Wunna.\n",
      "        2nd Simple Question: What awards has Wunna won?\n",
      "        2nd Answer: Wunna won Myanmar Motion Picture Academy Awards.\n",
      "    - Final Output: That's enough.\n",
      "\n",
      "    - Complex Question: Are North Marion High School (Oregon) and Seoul High School both located in the same country?\n",
      "    - Progress of Decomposition:\n",
      "        1st Simple Question: what country is North Marion High School (Oregon) located in?\n",
      "        1st Answer:North Marion High School (Oregon) is  located in United States.\n",
      "        2nd Simple Question:what country is Seoul High School located in?\n",
      "        2nd Answer:Seoul High School is located in South Korea.\n",
      "    - Final Output: That's enough.\n",
      "\n",
      "    - Complex Question:Who is the maternal grandfather of Antiochus X Eusebes?\n",
      "    - Progress of Decomposition:\n",
      "        1st Simple Question: Who is the mother of Antiochus X Eusebes?\n",
      "        1st Answer:the mother of Antiochus X Eusebes is Cleopatra IV.\n",
      "        2nd Simple Question:who is the father of Cleopatra IV?\n",
      "        2nd Answer:the father of Cleopatra IV is Ptolemy VIII Physcon.\n",
      "    - Final Output: That's enough.\n",
      "\n",
      "    - Complex Question:Where was the place of death of Anastasia Of Serbia's husband?\n",
      "    - Progress of Decomposition:\n",
      "        1st Simple Question: Who is the husband of Anastasia Of Serbia?\n",
      "        1st Answer:the husband of Anastasia Of Serbia is Stefan Nemanja.\n",
      "        2nd Simple Question:Where was the place of death of Stefan Nemanja?\n",
      "        2nd Answer:the place of death of Stefan Nemanja is Holy Monastery Hilandar, Moni Chilandariou, Greece.\n",
      "    - Final Output: That's enough.\n",
      "\n",
      "    - Complex Question:Which film has the director died earlier, Condemned Women or Faces In The Dark?\n",
      "    - Progress of Decomposition:\n",
      "        1st Simple Question: What is the director of the film Condemned Women?\n",
      "        1st Answer:the director of the film Condemned Women is Lew Landers.\n",
      "        2nd Simple Question:What is the director of the film Faces In The Dark?\n",
      "        2nd Answer:the director of the film Faces In The Dark is David Eady.\n",
      "        3st Simple Question: When did Lew Landers die?\n",
      "        3st Answer:Lew Landers die on 16 December 1962.\n",
      "        4st Simple Question: When did David Eady die?\n",
      "        4st Answer:David Eady die on April 5, 2009.\n",
      "    - Final Output: That's enough.\n",
      "\n",
      "    ## Initialization\n",
      "    Now, a first simple question.\n",
      "    \n"
     ]
    }
   ],
   "source": [
    "print(Prompt.cot_prompt)"
   ]
  },
  {
   "cell_type": "code",
   "execution_count": 6,
   "metadata": {},
   "outputs": [],
   "source": [
    "def decompose_question_step(input : str | list, max_tokens : int = 50):\n",
    "    \"\"\"\n",
    "    Given a multi-hop question, decomposes the question *once* to generate a sub-question, or returns \"That's enough\" if the LLM believes the question has been fully decomposed.\n",
    "    To answer multi-hop questions, The ``Llama-3.1-8B-Instruct`` model is deployed with an elicitive Chain-of-Thought prompt from ``prompt.py``, which is created using a template from [LangGPT](https://github.com/langgptai/LangGPT/).\n",
    "\n",
    "    Args:\n",
    "        input (str/list): Can either be a multi-hop question of data type ``str``, or an ongoing LLM chat history of type ``list``.\n",
    "            If ``str``, the input is treated as the initial multi-hop question, E.g., ``\"Who was president of the United States in the year that Citibank was founded?\"``.\n",
    "            If ``list``, the input is treated as a subsequent step in the query decomposition.\n",
    "        max_tokens (int): The maximum number of tokens the LLM is allowed to generate for the sub-question.\n",
    "    \n",
    "    Returns:\n",
    "        chat_history (list): The entire chat history generated from the LLM, which includes both the CoT prompt, the user query, and the LLM's decomposition.\n",
    "                            This argument can be fed back into the ``decompose_question_step`` function to generate further sub-questions once context has been retrieved and implemented for the initial sub-question.\n",
    "        sub_question (str): The sub-question extracted from the full ``chat_history``. Context can be retrieved for this question.\n",
    "    \"\"\"\n",
    "\n",
    "    if isinstance(input, str):\n",
    "        input = [\n",
    "            {'role':'system','content':Prompt.cot_prompt}, # Question Decomposition Specialist Prompt\n",
    "            {'role':'user','content':f\"Let's break down this complex question: {input}\"}\n",
    "        ]\n",
    "\n",
    "    chat_history = pipeline(\n",
    "        input,\n",
    "        do_sample=True,\n",
    "        top_k=10,\n",
    "        num_return_sequences=1,\n",
    "        eos_token_id=tokenizer.eos_token_id,\n",
    "        truncation = True,\n",
    "        max_new_tokens=50\n",
    "    )\n",
    "\n",
    "    assistant_response = chat_history[0]['generated_text'][-1]\n",
    "    sub_question = assistant_response['content']\n",
    "\n",
    "    return chat_history, sub_question"
   ]
  },
  {
   "cell_type": "code",
   "execution_count": 7,
   "metadata": {},
   "outputs": [
    {
     "name": "stderr",
     "output_type": "stream",
     "text": [
      "Setting `pad_token_id` to `eos_token_id`:None for open-end generation.\n"
     ]
    },
    {
     "name": "stdout",
     "output_type": "stream",
     "text": [
      "[{'role': 'system', 'content': '# Question Decomposition Specialist\\n\\n    ## Background\\n    - You are an expert at analyzing problems and are good at breaking down difficult problems into simple problems.\\n    - A person facing the problem {question} is asking you for help. The question is hard to answer directly.\\n\\n    ## Goal\\n    Helping the user decompose the question and tell the user at the right time that the problem can be solved.\\n\\n    ## Constraint\\n    - Forget all the knowledge you\\'ve learned before and decide whether to continue decomposing the question based only on the user\\'s answers.\\n    - To make it easier for the user to answer, only one simple question is asked at once.\\n    - You can only decompose the question, do not answer it directly.\\n\\n    ## Workflow\\n    1. Analyse the original complex question and formulate a simple question based on that complex question.\\n    2. Receive the user\\'s answer to the simple question at hand.\\n    2.1 If the user is unable to answer the current simple question, rephrase a simple question.\\n    2.2 If the user answers the current simple question, analyze all currently known simple questions and user responses.\\n    2.2.1 If you think that all the currently known simple questions and answers are sufficient to answer the initial complex question, say \"That\\'s enough.\"\\n    2.2.2 Otherwise, ask a new simple question.\\n    3. Repeat step 2 until the complex question can be answered.\\n\\n    ## Example\\n    - Complex Question: What is the award that the director of film Wearing Velvet Slippers Under A Golden Umbrella won?\\n    - Progress of Decomposition:\\n        1st Simple Question: Who is the director of film Wearing Velvet Slippers Under A Golden Umbrella won?\\n        1st Answer: the director of film Wearing Velvet Slippers Under A Golden Umbrella won is Wunna.\\n        2nd Simple Question: What awards has Wunna won?\\n        2nd Answer: Wunna won Myanmar Motion Picture Academy Awards.\\n    - Final Output: That\\'s enough.\\n\\n    - Complex Question: Are North Marion High School (Oregon) and Seoul High School both located in the same country?\\n    - Progress of Decomposition:\\n        1st Simple Question: what country is North Marion High School (Oregon) located in?\\n        1st Answer:North Marion High School (Oregon) is  located in United States.\\n        2nd Simple Question:what country is Seoul High School located in?\\n        2nd Answer:Seoul High School is located in South Korea.\\n    - Final Output: That\\'s enough.\\n\\n    - Complex Question:Who is the maternal grandfather of Antiochus X Eusebes?\\n    - Progress of Decomposition:\\n        1st Simple Question: Who is the mother of Antiochus X Eusebes?\\n        1st Answer:the mother of Antiochus X Eusebes is Cleopatra IV.\\n        2nd Simple Question:who is the father of Cleopatra IV?\\n        2nd Answer:the father of Cleopatra IV is Ptolemy VIII Physcon.\\n    - Final Output: That\\'s enough.\\n\\n    - Complex Question:Where was the place of death of Anastasia Of Serbia\\'s husband?\\n    - Progress of Decomposition:\\n        1st Simple Question: Who is the husband of Anastasia Of Serbia?\\n        1st Answer:the husband of Anastasia Of Serbia is Stefan Nemanja.\\n        2nd Simple Question:Where was the place of death of Stefan Nemanja?\\n        2nd Answer:the place of death of Stefan Nemanja is Holy Monastery Hilandar, Moni Chilandariou, Greece.\\n    - Final Output: That\\'s enough.\\n\\n    - Complex Question:Which film has the director died earlier, Condemned Women or Faces In The Dark?\\n    - Progress of Decomposition:\\n        1st Simple Question: What is the director of the film Condemned Women?\\n        1st Answer:the director of the film Condemned Women is Lew Landers.\\n        2nd Simple Question:What is the director of the film Faces In The Dark?\\n        2nd Answer:the director of the film Faces In The Dark is David Eady.\\n        3st Simple Question: When did Lew Landers die?\\n        3st Answer:Lew Landers die on 16 December 1962.\\n        4st Simple Question: When did David Eady die?\\n        4st Answer:David Eady die on April 5, 2009.\\n    - Final Output: That\\'s enough.\\n\\n    ## Initialization\\n    Now, a first simple question.\\n    '}, {'role': 'user', 'content': \"Let's break down this complex question: Who was president of the United States in the year that Citibank was founded?\"}]\n"
     ]
    },
    {
     "name": "stderr",
     "output_type": "stream",
     "text": [
      "c:\\Users\\Alex\\anaconda3\\envs\\gpu_tf\\lib\\site-packages\\transformers\\models\\llama\\modeling_llama.py:655: UserWarning: 1Torch was not compiled with flash attention. (Triggered internally at C:\\actions-runner\\_work\\pytorch\\pytorch\\builder\\windows\\pytorch\\aten\\src\\ATen\\native\\transformers\\cuda\\sdp_utils.cpp:555.)\n",
      "  attn_output = torch.nn.functional.scaled_dot_product_attention(\n",
      "Starting from v4.46, the `logits` model output will have the same type as the model (except at train time, where it will always be FP32)\n"
     ]
    }
   ],
   "source": [
    "chat_history, sub_question = decompose_question_step(\"Who was president of the United States in the year that Citibank was founded?\")"
   ]
  },
  {
   "cell_type": "code",
   "execution_count": 12,
   "metadata": {},
   "outputs": [
    {
     "data": {
      "text/plain": [
       "\"## 1st Simple Question\\nTo start, let's ask a simple question to begin breaking down the complex question:\\n\\nWhat year was Citibank founded?\\n\\nPlease respond with a year or indicate that you're unsure.\""
      ]
     },
     "execution_count": 12,
     "metadata": {},
     "output_type": "execute_result"
    }
   ],
   "source": [
    "sub_question"
   ]
  },
  {
   "cell_type": "code",
   "execution_count": 16,
   "metadata": {},
   "outputs": [
    {
     "data": {
      "text/plain": [
       "\"## 1st Simple Question\\nTo start, let's ask a simple question to begin breaking down the complex question:\\n\\nWhat year was Citibank founded?\\n\\nPlease respond with a year or indicate that you're unsure.\""
      ]
     },
     "execution_count": 16,
     "metadata": {},
     "output_type": "execute_result"
    }
   ],
   "source": [
    "sub_question"
   ]
  },
  {
   "cell_type": "code",
   "execution_count": 70,
   "metadata": {},
   "outputs": [],
   "source": [
    "from query.embedding_model import EmbeddingModel\n",
    "\n",
    "embedding = EmbeddingModel()\n",
    "sub_question_embedding = embedding.get_embedding(sub_question, input_is_query=True)"
   ]
  },
  {
   "cell_type": "markdown",
   "metadata": {},
   "source": [
    "# Testing"
   ]
  },
  {
   "cell_type": "code",
   "execution_count": null,
   "metadata": {},
   "outputs": [],
   "source": [
    "assistant_response = response[0]['generated_text'][-1]\n",
    "sub_question = assistant_response['content']"
   ]
  },
  {
   "cell_type": "code",
   "execution_count": 1,
   "metadata": {},
   "outputs": [],
   "source": [
    "import wikipedia"
   ]
  },
  {
   "cell_type": "code",
   "execution_count": 2,
   "metadata": {},
   "outputs": [
    {
     "data": {
      "text/plain": [
       "'Citibank'"
      ]
     },
     "execution_count": 2,
     "metadata": {},
     "output_type": "execute_result"
    }
   ],
   "source": [
    "wikipedia.search(\"Citibank\")[0]"
   ]
  },
  {
   "cell_type": "code",
   "execution_count": 3,
   "metadata": {},
   "outputs": [
    {
     "data": {
      "text/plain": [
       "'Citibank, N.A. (\"N. A.\" stands for \"National Association\"; stylized as citibank) is the primary U.S. banking subsidiary of Citigroup, a financial services multinational corporation. Citibank was founded in 1812 as City Bank of New York, and later became First National City Bank of New York. The bank has branches in 19 countries. The U.S. branches are concentrated in six metropolitan areas, New York City, Chicago, Los Angeles, San Francisco, Washington, D.C., and Miami.\\nAs of 2023, Citibank is the fourth-largest bank in the United States in terms of assets.\\n\\n\\n== History ==\\n\\n\\n=== Founding ===\\n\\n\\n=== 19th century ===\\nThe City Bank of New York was founded on June 16, 1812. The first president of the City Bank was the statesman and retired Colonel, Samuel Osgood. After Osgood\\'s death in August 1813, William Few became President of the bank, staying until 1817, followed by Peter Stagg (1817–1825), Thomas Smith (1825–1827), Isaac Wright (1827–1832), and Thomas Bloodgood (1832–1843). After the Panic of 1837, Moses Taylor acquired control of the company. During Taylor\\'s ascendancy, the bank functioned largely as a treasury and finance center for Taylor\\'s own extensive business empire. Later presidents of the bank included Gorham A. Worth (1843–1856), Moses Taylor himself (1856–1882), Taylor\\'s son-in-law Percy Rivington Pyne I, and James Stillman (1891–1909).\\nIn 1831, City Bank was the site of one of America\\'s first bank heists when two burglars, James Honeyman and William J. Murray, made off with tens of thousands of dollars\\' worth of bank notes, and 398 gold doubloons, the equivalent of $52 million in 2013 currency.\\nThe bank financed war bonds for the War of 1812, serving as a founding member of the financial clearinghouse in New York (1853), underwriting the Union during the American Civil War with $50 million in war bonds, opening the first foreign exchange department of any bank (1897), and receiving a $5 million deposit to be given to Spain for the US acquisition of the Philippines (1899). In 1865, the bank joined the national banking system of the United States under the National Bank Act and became The National City Bank of New York. By 1868, it was one of the largest banks in the United States. The bank became the largest bank in New York City following the Panic of 1893. Two years later, in 1895, it had become the largest bank in the U.S. \\n\\n\\n=== 20th century ===\\n\\nIn 1904, the bank helped finance the Panama Canal. Two years later, in 1906, 11% of the U.S. federal government\\'s bank balances were held by National City. National City at this time was the banker of Standard Oil, and the Chicago banking factions accused U.S. Secretary of the Treasury L. M. Shaw of having too close of a relationship with National City and other Wall Street operators. In 1907, Stillman, then the bank\\'s chairman, intervened, along with J. P. Morgan and George Fisher Baker, in the Panic of 1907.\\nBetween 1910 and 1911, the Department of State backed a consortium of American investors headed by Citibank to acquire control over the Banque Nationale de la République d\\'Haïti, which was the sole commercial bank of Haiti and served as the Haitian government\\'s treasury. Citibank then lobbied for the United States occupation of Haiti, which began in 1915. During the occupation, Citibank imposed a US$30 million loan on the Haitian government, which was described by communist George Padmore as transforming Haiti into an \"American slave colony\". Citibank would go on to acquire some of its largest gains in the 1920s due to debt payments from Haiti, according to later filings to the Senate Finance Committee.\\nWhen the Federal Reserve Act allowed it, National City Bank became the first U.S. national bank to open an overseas banking office when it opened a branch in Buenos Aires, Argentina, in 1914. Many of Citi\\'s present international offices are older; offices in London, Shanghai, Calcutta, and elsewhere were opened in 1901 and 1902 by the International Banking Corporation (IBC), a company chartered to conduct banking business outside the U.S., which was forbidden to U.S. national banks. In 1918, IBC became a wholly owned subsidiary and was subsequently merged into the bank. The same year, the bank evacuated all of its employees from Moscow and Petrograd as the Russian Civil War had begun, but also established a branch in Puerto Rico. By 1919, the bank had become the first U.S. bank to have $1 billion in assets.\\nAs of March 9, 1921, there were four national banks in New York City operating branch offices: Chatham and Phenix National, the Mechanics and Metals National, the Irving National, and National City Bank.\\nCharles E. Mitchell, also called \"Sunshine\" Charlie Mitchell, was elected president in 1921. In 1929, he was made chairman, a position he held until 1933. Under Mitchell, the bank expanded rapidly and by 1930 had 100 branches in 23 countries outside the United States. The policies pursued by the bank under Mitchell\\'s leadership are seen by many people as one of the prime causes of the stock market crash of 1929, which led ultimately to the Great Depression.\\nIn 1933, the Pecora Commission, a United States Senate committee, investigated Mitchell for his part in tens of millions of dollars in losses, excessive pay, and tax avoidance, later leading to his resignation. U.S. Senator Carter Glass said of him, \"Mitchell, more than any 50 men, is responsible for this stock crash.\"\\nOn December 24, 1927, its headquarters in Buenos Aires, Argentina, were blown up by the Italian anarchist Severino Di Giovanni, in the frame of the international campaign supporting Sacco and Vanzetti.\\nIn 1940 and 1941, branches in Germany and Japan closed. In 1945, the bank handled $5.6 billion in Treasury securities for War and Victory Loan drives for the U.S. government.\\nIn 1952, James Stillman Rockefeller was elected president and then chairman in 1959, serving until 1967. Stillman was a direct descendant of the Rockefeller family through the William Rockefeller (the brother of John D.) branch. In 1960, his second cousin, David Rockefeller, became president of Chase Manhattan Bank, National City\\'s long-time New York rival for dominance in the banking industry in the United States.\\nFollowing its merger with the First National Bank in 1955, the bank changed its name to The First National City Bank of New York, then shortened it to First National City Bank in 1962. It is also worth noting that the bank began recruiting at Harvard Business School in 1957, arranged the financing of the 1958 Hollywood film, South Pacific, and had its branches in Cuba nationalized in 1959 by the new socialist government, and has its first African-American director in 1969, Franklin A. Thomas.\\nThe company organically entered the leasing and credit card sectors, and its introduction of US dollar-denominated certificates of deposit in London marked the first new negotiable instrument in the market since 1888. Later to become part of MasterCard, the bank introduced its First National City Charge Service credit card—popularly known as the \"Everything Card\"—in 1967.\\nIn 1967, Walter B. Wriston became chairman and chief executive officer of the bank.\\nIn the 1960s, the bank entered into the credit card business. In 1965, First National City Bank bought Carte Blanche from Hilton Hotels. Three years later, under pressure from the U.S. government, the bank sold this division. By 1968, the company created its own credit card. The card, known as \"The Everything Card\", was promoted as a kind of East Coast version of the BankAmericard. By 1969, First National City Bank decided that the Everything Card was too costly to promote as an independent brand and joined Master Charge (now MasterCard). Citibank unsuccessfully tried again from 1977 to 1987 to create a separate credit card brand, the Choice Card.\\nIn 1967, First National City Bank reorganized as a one-bank holding company, First National City Corporation, or \"Citicorp\" for short. However, the bank had been nicknamed \"Citibank\" since the 1860s, when City Bank of New York adopted it as an eight-letter wire code address. \"Citicorp\" became the holding company\\'s formal name in 1974, and in 1976, First National City Bank was renamed Citibank, N.A. The name change also helped to avoid confusion in Ohio with Cleveland-based National City Corp., though the banks never had any significant overlapping areas except for Citi credit cards issued in National City territory. In addition, at the time of the name change to Citicorp, in 1968, National City of Ohio was mostly a Cleveland-area bank and had not gone on its acquisition spree that would occur in the 1990s and 2000s. Any possible name confusion had Citi not changed its name from National City eventually became completely moot when PNC Financial Services acquired National City in 2008 during the subprime mortgage crisis.\\nIn 1987, the bank set aside $3 billion in reserves for loan losses in Brazil and other developing countries. In 1990, the bank established a subsidiary in Poland. In 1994, it became the world\\'s biggest card issuer.\\nAlso in the 1980s, the bank launched the Citicard, which allowed customers to perform all transactions without a passbook. Branches also had terminals with simple one-line displays that allowed customers to get basic account information without a bank teller.\\nJohn S. Reed was selected CEO in 1984, and Citi became a founding member of the CHAPS clearing house in London. Under his leadership, the next 14 years would see Citibank become the largest bank in the U.S., the largest issuer of credit cards and charge cards in the world, and expand its global reach to over 90 countries.\\nAs the bank\\'s expansion continued, the Narre Warren-Caroline Springs credit card company was purchased in 1981. In 1981, Citibank chartered a South Dakota subsidiary to take advantage of new laws that raised the state\\'s maximum permissible interest rate on loans to 25% (then the highest in the nation). In many other states, usury laws prevented banks from charging interest that aligned with the extremely high costs of lending money in the late 1970s and early 1980s, making consumer lending unprofitable. There is no current maximum interest rate or usury restriction under South Dakota law when a written agreement is formed. \\n\\n\\n=== 21st century ===\\nIn 2005, Federated Department Stores, now Macy\\'s, Inc., sold its consumer credit portfolio to Citigroup, which reissued its cards under the name Department Stores National Bank (DSNB).\\nAs of 2013, Citibank employed 2,900 people in Sioux Falls, South Dakota, and contributed to the state holding more bank assets than any other state.\\nIn 2013, Citibank purchased the credit card portfolio of Best Buy from Capital One.\\nOn April 1, 2016, Citigroup became the exclusive issuer of Costco\\'s branded credit cards.\\nThe bank\\'s private-label credit card division, Citi Retail Services, issues store-issued credit cards for such companies as: American Airlines, Best Buy, ConocoPhillips, Costco, ExxonMobil, The Home Depot, Sears, Shell Oil, and Staples Inc.\\n\\n\\n==== Automatic teller machines ====\\nIn the 1970s, Citibank was one of the first U.S. banks to introduce automatic teller machines (ATMs), which gave customers 24-hour access to cash.\\n\\n\\n=== Expansion ===\\n\\nIn 2002, Citigroup, the parent of Citibank, acquired Golden State Bancorp and its California Federal Bank, which was one-third owned by Ronald O. Perelman, for $5.8 billion.\\nIn 1999, Citibank was sued for improperly charging late fees on its credit cards.\\nIn August 2004, Citigroup entered the Texas market with the purchase of First American Bank of Bryan, Texas. The deal established the firm\\'s retail banking presence in Texas, giving Citibank over 100 branches, $3.5 billion in assets and approximately 120,000 customers in the state.\\nIn 2006, the bank entered the Philadelphia market, opening 23 branches in the metropolitan area. In 2013, Citibank closed these locations for \"efficiency-driven\" reasons.\\nIn 2006, the company announced a naming rights sponsorship deal for the new stadium of New York Mets, Citi Field, which opened in 2009. The deal reportedly required payments by Citi of $20 million per year for 20 years.\\nAs of September 2020, Citibank\\'s US branches are located in the metropolitan areas of New York, Los Angeles, San Francisco, Sacramento, San Diego, Washington DC, Las Vegas, Miami, and Chicago.  California is home to the majority of Citibank\\'s US branches, with 292 branches located in the state.\\'\\nCiti announced it may return its retail banking presence to Dallas in 2022. Citibank will take more than 9,000 square feet of space in the Berkshire Court building at Preston and Northwest Highway. Construction is scheduled to start on the new office early next year, according to planning documents filed with the state. The new Citibank office is described as an \"experience center\" in the planning documents. The plans identify the operation as \"retail bank/office space\". Citibank doesn\\'t have a major retail banking presence in the Dallas area. A spokesman in the bank\\'s New York office would not give details about what is planned in the North Dallas location. \"We\\'ll decline to comment on this,\" said Citibank\\'s Drew Benson in an email.\\n\\n\\n=== 2007–2009 losses and cost-cutting measures by parent Citigroup ===\\nOn April 11, 2007, Citigroup, the parent of Citibank, announced layoffs of 17,000 employees, or 8% of its workforce.\\nOn November 4, 2007, Charles Prince resigned as the chairman and chief executive of Citigroup, the parent of Citibank, following crisis meetings with the board in New York in the wake of billions of dollars in losses related to subprime lending. Former United States Secretary of the Treasury Robert Rubin took over as chairman, subsequently hiring Vikram Pandit as chief executive.\\nOn November 5, 2007, several days after Merrill Lynch announced that it too had been losing billions from the subprime mortgage crisis in the United States, Citi reported that it will lose between $8 billion and $11 billion in the fourth quarter of 2007, in addition to the $6.5 billion it lost in the third quarter of 2007.\\nEffective November 30, 2007, Citibank sold its 17 Puerto Rico branches, along with $1.0 billion in deposits, to Banco Popular.\\nIn January 2008, Citigroup reported a $10 billion loss in the fourth quarter of 2007, after an $18.1 billion write down.\\nIn March 2008, Citibank set up Mobile Money Ventures, a joint venture with SK Telecom, to develop mobile apps for banking.  It sold the venture to Intuit in June 2011.\\nIn May 2008, the company closed an $87.5 million leaseback transaction for branches in New York City.\\nIn July 2008, Citibank Privatkunden AG & Co. KGaA, the company\\'s German division, was sold to Crédit Mutuel. On February 22, 2010, it was renamed to Targobank.\\nIn August 2008, after a three-year investigation by the California Attorney General, Citibank was ordered to repay the $14 million that was removed from 53,000 customers accounts over an 11-year period from 1992 to 2003, plus an additional $4 million in interest and penalties. The money was taken under an electronic \"account sweeping program\" where any positive balances from over-payments or double payments were removed without notice to the customers.\\nAs a result of the 2007–2008 financial crisis and huge losses in the value of its subprime mortgage assets, Citigroup, the parent of Citibank, received a bailout in the form of an investment from the U.S. Treasury. On November 23, 2008, in addition to an initial investment of $25 billion, a further $20 billion was invested in the company along with guarantees for risky assets of $306 billion. The guarantees were issued at a time markets were not confident Citi had enough liquidity to cover losses from those investments. Eventually, the Citi shares the Treasury took over in return for the guarantees it issued were booked as net profit for the treasury as Citi had enough liquidity and guarantees did not have to be used. By 2010, Citibank had repaid the loans from the Treasury in full, including interest, resulting in a net profit for the U.S. federal government.\\nOn January 16, 2009, Citigroup announced that it was separating Citi Holdings Inc., its non-core businesses such as brokerage, asset management, and local consumer finance and higher-risk assets, from Citicorp. The split was presented as allowing Citibank to concentrate on its core banking business.\\n\\n\\n=== 2010 to present ===\\nOn October 19, 2011, Citigroup, the parent of Citibank, agreed to a $285 million civil fraud penalty after the U.S. Securities and Exchange Commission accused the company of betting against risky mortgage-related investments that it sold to its clients.\\nIn 2014, Citigroup announced it would exit retail banking in 11 markets, primarily in Europe and Central America. In September 2014, it exited the Texas market with the sale of 41 branches to BB&T. In September 2015, the bank announced that it would close its 17 branches in Massachusetts and end sponsorship of a theater in Boston.\\nIn 2015, the bank was ordered to pay $770 million in relief to borrowers for illegal credit card practices. The Consumer Financial Protection Bureau said that about 7 million customer accounts were affected by Citibank\\'s \"deceptive marketing\" practices, which included misrepresenting costs and fees and charging customers for services they did not receive.\\nOn March 1, 2017, an article in The Economic Times of India stated that Citibank may close its 44 branches in India, as digital transactions made them less necessary. The articles wrote that Citibank was \"India\\'s most profitable foreign lender\".\\nOn March 20, 2017, The Guardian reported that hundreds of banks had helped launder FSB-related funds out of Russia, as uncovered by an investigation named Russian Laundromat. Citibank was listed among the American banks that were named as having handled the laundered funds, with banks in the US processing around $63.7 million between 2010 and 2014. Citibank was listed as having processed $37 million of that amount, with others including Bank of America, which processed $14 million. as the bank \"handled $113.1 million\" in Laundromat cash.\\nIn March 2018, Citibank announced a new firearms policy, placing restrictions on financial transactions in the U.S. firearm industry.\\nIn April 2021, Citibank announced it would exit its consumer banking operations in 13 markets, including Australia, Bahrain, China, India, Indonesia, South Korea, Malaysia, the Philippines, Poland, Russia, Taiwan, Thailand and Vietnam.\\nIn January 2022, Citi further announced its plan to exit consumer banking in Mexico (also known as Citibanamex), as well as small-business and middle-market banking operations.\\nIn September 2022, Citi announced plans to wind down retail banking in the UK.\\nIn January 2024, Citi reported a $1.8 billion loss in the fourth quarter of 2023 and announced plans to cut 20,000 jobs, roughly 8% of its workforce.\\nAt the bank\\'s 2024 investor day, Citi highlighted its Services division, which produces income from \"financial pipes\".\\n\\n\\n== Chairmen ==\\nSince the bank\\'s founding in 1812, it has been led by a President, with Samuel Osgood being elected as the first President. In 1909, James Stillman became the first chairman of the company.\\n\\n\\n=== List of Chairmen ===\\nSamuel Osgood (1812–1813)\\nWilliam Few (1813–1817)\\nPeter Staff (1817–1825)\\nThomas Smith (1825–1827)\\nIsaac Wright (1827–1832)\\nThomas Bloodgood (1832–1844)\\nGorham A. Worth (1844–1856)\\nMoses Taylor (1856–1882)\\nPercy Pyne (1882–1891)\\nJames Stillman (1891–1918)\\nFrank A. Vanderlip (1918–1919)\\nJames A. Stillman (1919–1921)\\nCharles E. Mitchell (1921–1933)\\nJames H. Perkins (1933–1940)\\nGordon Sohn Rentschler (1940–1948)\\nWilliam Gage Brady Jr. (1948–1952)\\nHoward C. Sheperd (1952–1959)\\nJames Stillman Rockefeller (1959–1967)\\nGeorge S. Moore (1967–1970)\\nWalter B. Wriston (1970–1984)\\nJohn S. Reed (1984–1998)\\nJohn S. Reed and Sandy Weill (1998–2000)\\nSandy Weill (2000–2006)\\nCharles Prince (2006–2007)\\nSir Win Bischoff (2007–2009)\\nDick Parsons (2009–2012)\\nMichael O\\'Neill (2012–2019)\\nJohn Dugan (2019– )\\n\\n\\n== Controversies ==\\n\\n\\n=== Alleged money laundering by Raul Salinas ===\\nIn 1998, the General Accounting Office issued a report critical of Citibank\\'s handling of funds received from Raul Salinas de Gortari, brother of Carlos Salinas, the former president of Mexico. The report, titled \"Raul Salinas, Citibank and Alleged Money Laundering\", indicated that Citibank facilitated the transfer of millions of dollars through complex financial transactions that hid the funds\\' paper trail. The report indicated that Citibank took on Salinas as a client without making a thorough inquiry as to how he made his fortune, an omission that a Citibank official called a violation of the bank\\'s \"know your customer\" policy.\\n\\n\\n=== Yakuza links ===\\nCitibank has been punished by the Japanese Financial Services Agency twice (2004 and 2009) for aiding and abetting money laundering by yakuza members; there was no punishment from the U.S. side. In 2004–2006, Immigration Customs Enforcement (ICE) seized close to $1 million worth of assets in the United States owned by Susumu Kajiyama, the so-called emperor of loan sharks, and a Yamaguchi-gumi Goryokai member.\\n\"In 2004, Citibank (Japan) lost their private banking license because they were allowing yakuza to do many complex transactions,\" Jake Adelstein, author of \"Tokyo Vice\" and an expert on Japan\\'s mafia – known as the yakuza – told CNN. \"They got \\'spanked\\' in 2009 for failing to update their databases and allowing yakuza to do business with them again.\"\\n\\n\\n=== Funding of the Dakota Access Pipeline ===\\nCitibank is one of the lead lenders to the developers of the Dakota Access Pipeline project in North Dakota, a 1,172-mile-long (1,886 km) oil pipeline project. The pipeline has been controversial regarding its potential environmental impacts and impacts to Siouan sacred lands and water supply. According to a statement by Hugh MacMillan, a senior researcher on water, energy and climate issues, Citibank has been \"running the books on this project, and that\\'s the bank that beat the bushes and got other banks to join in.\"\\nOn December 13, 2016, students of Columbia University protested outside of the Citibank location on Broadway and 112th Street, by holding cardboard signs, chanting and passing flyers. Earlier that year, the university replaced the on-campus Citibank ATMs with ATMs from Santander Bank, a bank that has no ties to the Dakota Access Pipeline.\\n\\n\\n=== Libor Index Settlement ===\\nPreceded by other banks involved in the Libor Scandal, Citibank in June 2018 reached a settlement with 42 U.S. states to pay a $100 million fine due to their manipulation of the London Inter-bank Offered Rate. Libor index is widely used as a reference rate for many financial instruments both in financial and commercial fields.\\n\\n\\n== Sponsorships ==\\nCitibank sponsors Citi Field, home of the New York Mets baseball club as well as the Washington Open tennis championship.\\nThe firm became a sponsor of the Australian Rugby Union team in 2001 for a three-year deal, and a major sponsor of the Sydney Swans in 2005, who play in the Australian Football League.\\nIn the late 1970s, First National City was heavily involved in Indy Car racing, sponsoring major drivers like Johnny Rutherford and Al Unser, Sr. Unser won the 1978 Indianapolis 500 in First National City Travelers Checks livery.\\nIn Formula 1 First National City was the sponsor of team Tyrrell in 1977 and 1978, with the First National City Travelers Checks livery also. They\\'re currently sponsoring Fernando Alonso in Formula 1\\nCitibank is the main sponsor of New York City\\'s bike-share scheme Citi Bike since its launch in 2013.\\n\\n\\n== In popular culture ==\\nPolitical cartoonist Michel Kichka satirized Citibank in his 1982 poster ...And I Love New York, in which the lettering above the entrance to a New York City branch reads\" \"Citibang\". Meanwhile, a stocking-wearing bank robber exits and fires shots at NYPD officers responding to the robbery.\\nThe 2001 song \"Short Skirt/Long Jacket\" references the company with the line \"At Citibank, we will meet accidentally.\"\\n\\n\\n== See also ==\\n\\nCitigroup Center\\nList of chairmen of Citigroup\\nSanford I. Weill\\nATM Industry Association\\n\\n\\n== References ==\\n\\n\\n== Further reading ==\\nCleveland, Harold van B.; Huertas, Thomas F. (1985). Citibank, 1812–1970. Harvard University Press. OCLC 11867287.\\nZweig, Philip L. (1995). Wriston: Walter Wriston, Citibank and the Rise and Fall of American Financial Supremacy. Crown Publishers. OCLC 232673245.\\nFreeman, James; McKinley, Vern (2018). Borrowed Time: Two Centuries of Booms, Busts, and Bailouts at Citi. Harper Business. OCLC 1028607879.'"
      ]
     },
     "execution_count": 3,
     "metadata": {},
     "output_type": "execute_result"
    }
   ],
   "source": [
    "import wikipedia\n",
    "page = wikipedia.page(\"Citibank\", auto_suggest=False, redirect=True, preload=False)\n",
    "page.content"
   ]
  },
  {
   "cell_type": "code",
   "execution_count": 76,
   "metadata": {},
   "outputs": [
    {
     "name": "stdout",
     "output_type": "stream",
     "text": [
      "Citibank, N.A. (\"N. A.\" stands for \"National Association\"; stylized as citibank) is the primary U.S. banking subsidiary of Citigroup, a financial services multinational corporation. Citibank was founded in 1812 as City Bank of New York, and later became First National City Bank of New York. The bank has branches in 19 countries. The U.S. branches are concentrated in six metropolitan areas, New York City, Chicago, Los Angeles, San Francisco, Washington, D.C., and Miami.\n",
      "As of 2023, Citibank is the fourth-largest bank in the United States in terms of assets.\n",
      "\n",
      "\n",
      "== History ==\n",
      "\n",
      "\n",
      "=== Founding ===\n",
      "\n",
      "\n",
      "=== 19th century ===\n",
      "The City Bank of New York was founded on June 16, 1812. The first president of the City Bank was the statesman and retired Colonel, Samuel Osgood. After Osgood's death in August 1813, William Few became President of the bank, staying until 1817, followed by Peter Stagg (1817–1825), Thomas Smith (1825–1827), Isaac Wright (1827–1832), and Thomas Bloodgood (1832–1843). After the Panic of 1837, Moses Taylor acquired control of the company. During Taylor's ascendancy, the bank functioned largely as a treasury and finance center for Taylor's own extensive business empire. Later presidents of the bank included Gorham A. Worth (1843–1856), Moses Taylor himself (1856–1882), Taylor's son-in-law Percy Rivington Pyne I, and James Stillman (1891–1909).\n",
      "In 1831, City Bank was the site of one of America's first bank heists when two burglars, James Honeyman and William J. Murray, made off with tens of thousands of dollars' worth of bank notes, and 398 gold doubloons, the equivalent of $52 million in 2013 currency.\n",
      "The bank financed war bonds for the War of 1812, serving as a founding member of the financial clearinghouse in New York (1853), underwriting the Union during the American Civil War with $50 million in war bonds, opening the first foreign exchange department of any bank (1897), and receiving a $5 million deposit to be given to Spain for the US acquisition of the Philippines (1899). In 1865, the bank joined the national banking system of the United States under the National Bank Act and became The National City Bank of New York. By 1868, it was one of the largest banks in the United States. The bank became the largest bank in New York City following the Panic of 1893. Two years later, in 1895, it had become the largest bank in the U.S. \n",
      "\n",
      "\n",
      "=== 20th century ===\n",
      "\n",
      "In 1904, the bank helped finance the Panama Canal. Two years later, in 1906, 11% of the U.S. federal government's bank balances were held by National City. National City at this time was the banker of Standard Oil, and the Chicago banking factions accused U.S. Secretary of the Treasury L. M. Shaw of having too close of a relationship with National City and other Wall Street operators. In 1907, Stillman, then the bank's chairman, intervened, along with J. P. Morgan and George Fisher Baker, in the Panic of 1907.\n",
      "Between 1910 and 1911, the Department of State backed a consortium of American investors headed by Citibank to acquire control over the Banque Nationale de la République d'Haïti, which was the sole commercial bank of Haiti and served as the Haitian government's treasury. Citibank then lobbied for the United States occupation of Haiti, which began in 1915. During the occupation, Citibank imposed a US$30 million loan on the Haitian government, which was described by communist George Padmore as transforming Haiti into an \"American slave colony\". Citibank would go on to acquire some of its largest gains in the 1920s due to debt payments from Haiti, according to later filings to the Senate Finance Committee.\n",
      "When the Federal Reserve Act allowed it, National City Bank became the first U.S. national bank to open an overseas banking office when it opened a branch in Buenos Aires, Argentina, in 1914. Many of Citi's present international offices are older; offices in London, Shanghai, Calcutta, and elsewhere were opened in 1901 and 1902 by the International Banking Corporation (IBC), a company chartered to conduct banking business outside the U.S., which was forbidden to U.S. national banks. In 1918, IBC became a wholly owned subsidiary and was subsequently merged into the bank. The same year, the bank evacuated all of its employees from Moscow and Petrograd as the Russian Civil War had begun, but also established a branch in Puerto Rico. By 1919, the bank had become the first U.S. bank to have $1 billion in assets.\n",
      "As of March 9, 1921, there were four national banks in New York City operating branch offices: Chatham and Phenix National, the Mechanics and Metals National, the Irving National, and National City Bank.\n",
      "Charles E. Mitchell, also called \"Sunshine\" Charlie Mitchell, was elected president in 1921. In 1929, he was made chairman, a position he held until 1933. Under Mitchell, the bank expanded rapidly and by 1930 had 100 branches in 23 countries outside the United States. The policies pursued by the bank under Mitchell's leadership are seen by many people as one of the prime causes of the stock market crash of 1929, which led ultimately to the Great Depression.\n",
      "In 1933, the Pecora Commission, a United States Senate committee, investigated Mitchell for his part in tens of millions of dollars in losses, excessive pay, and tax avoidance, later leading to his resignation. U.S. Senator Carter Glass said of him, \"Mitchell, more than any 50 men, is responsible for this stock crash.\"\n",
      "On December 24, 1927, its headquarters in Buenos Aires, Argentina, were blown up by the Italian anarchist Severino Di Giovanni, in the frame of the international campaign supporting Sacco and Vanzetti.\n",
      "In 1940 and 1941, branches in Germany and Japan closed. In 1945, the bank handled $5.6 billion in Treasury securities for War and Victory Loan drives for the U.S. government.\n",
      "In 1952, James Stillman Rockefeller was elected president and then chairman in 1959, serving until 1967. Stillman was a direct descendant of the Rockefeller family through the William Rockefeller (the brother of John D.) branch. In 1960, his second cousin, David Rockefeller, became president of Chase Manhattan Bank, National City's long-time New York rival for dominance in the banking industry in the United States.\n",
      "Following its merger with the First National Bank in 1955, the bank changed its name to The First National City Bank of New York, then shortened it to First National City Bank in 1962. It is also worth noting that the bank began recruiting at Harvard Business School in 1957, arranged the financing of the 1958 Hollywood film, South Pacific, and had its branches in Cuba nationalized in 1959 by the new socialist government, and has its first African-American director in 1969, Franklin A. Thomas.\n",
      "The company organically entered the leasing and credit card sectors, and its introduction of US dollar-denominated certificates of deposit in London marked the first new negotiable instrument in the market since 1888. Later to become part of MasterCard, the bank introduced its First National City Charge Service credit card—popularly known as the \"Everything Card\"—in 1967.\n",
      "In 1967, Walter B. Wriston became chairman and chief executive officer of the bank.\n",
      "In the 1960s, the bank entered into the credit card business. In 1965, First National City Bank bought Carte Blanche from Hilton Hotels. Three years later, under pressure from the U.S. government, the bank sold this division. By 1968, the company created its own credit card. The card, known as \"The Everything Card\", was promoted as a kind of East Coast version of the BankAmericard. By 1969, First National City Bank decided that the Everything Card was too costly to promote as an independent brand and joined Master Charge (now MasterCard). Citibank unsuccessfully tried again from 1977 to 1987 to create a separate credit card brand, the Choice Card.\n",
      "In 1967, First National City Bank reorganized as a one-bank holding company, First National City Corporation, or \"Citicorp\" for short. However, the bank had been nicknamed \"Citibank\" since the 1860s, when City Bank of New York adopted it as an eight-letter wire code address. \"Citicorp\" became the holding company's formal name in 1974, and in 1976, First National City Bank was renamed Citibank, N.A. The name change also helped to avoid confusion in Ohio with Cleveland-based National City Corp., though the banks never had any significant overlapping areas except for Citi credit cards issued in National City territory. In addition, at the time of the name change to Citicorp, in 1968, National City of Ohio was mostly a Cleveland-area bank and had not gone on its acquisition spree that would occur in the 1990s and 2000s. Any possible name confusion had Citi not changed its name from National City eventually became completely moot when PNC Financial Services acquired National City in 2008 during the subprime mortgage crisis.\n",
      "In 1987, the bank set aside $3 billion in reserves for loan losses in Brazil and other developing countries. In 1990, the bank established a subsidiary in Poland. In 1994, it became the world's biggest card issuer.\n",
      "Also in the 1980s, the bank launched the Citicard, which allowed customers to perform all transactions without a passbook. Branches also had terminals with simple one-line displays that allowed customers to get basic account information without a bank teller.\n",
      "John S. Reed was selected CEO in 1984, and Citi became a founding member of the CHAPS clearing house in London. Under his leadership, the next 14 years would see Citibank become the largest bank in the U.S., the largest issuer of credit cards and charge cards in the world, and expand its global reach to over 90 countries.\n",
      "As the bank's expansion continued, the Narre Warren-Caroline Springs credit card company was purchased in 1981. In 1981, Citibank chartered a South Dakota subsidiary to take advantage of new laws that raised the state's maximum permissible interest rate on loans to 25% (then the highest in the nation). In many other states, usury laws prevented banks from charging interest that aligned with the extremely high costs of lending money in the late 1970s and early 1980s, making consumer lending unprofitable. There is no current maximum interest rate or usury restriction under South Dakota law when a written agreement is formed. \n",
      "\n",
      "\n",
      "=== 21st century ===\n",
      "In 2005, Federated Department Stores, now Macy's, Inc., sold its consumer credit portfolio to Citigroup, which reissued its cards under the name Department Stores National Bank (DSNB).\n",
      "As of 2013, Citibank employed 2,900 people in Sioux Falls, South Dakota, and contributed to the state holding more bank assets than any other state.\n",
      "In 2013, Citibank purchased the credit card portfolio of Best Buy from Capital One.\n",
      "On April 1, 2016, Citigroup became the exclusive issuer of Costco's branded credit cards.\n",
      "The bank's private-label credit card division, Citi Retail Services, issues store-issued credit cards for such companies as: American Airlines, Best Buy, ConocoPhillips, Costco, ExxonMobil, The Home Depot, Sears, Shell Oil, and Staples Inc.\n",
      "\n",
      "\n",
      "==== Automatic teller machines ====\n",
      "In the 1970s, Citibank was one of the first U.S. banks to introduce automatic teller machines (ATMs), which gave customers 24-hour access to cash.\n",
      "\n",
      "\n",
      "=== Expansion ===\n",
      "\n",
      "In 2002, Citigroup, the parent of Citibank, acquired Golden State Bancorp and its California Federal Bank, which was one-third owned by Ronald O. Perelman, for $5.8 billion.\n",
      "In 1999, Citibank was sued for improperly charging late fees on its credit cards.\n",
      "In August 2004, Citigroup entered the Texas market with the purchase of First American Bank of Bryan, Texas. The deal established the firm's retail banking presence in Texas, giving Citibank over 100 branches, $3.5 billion in assets and approximately 120,000 customers in the state.\n",
      "In 2006, the bank entered the Philadelphia market, opening 23 branches in the metropolitan area. In 2013, Citibank closed these locations for \"efficiency-driven\" reasons.\n",
      "In 2006, the company announced a naming rights sponsorship deal for the new stadium of New York Mets, Citi Field, which opened in 2009. The deal reportedly required payments by Citi of $20 million per year for 20 years.\n",
      "As of September 2020, Citibank's US branches are located in the metropolitan areas of New York, Los Angeles, San Francisco, Sacramento, San Diego, Washington DC, Las Vegas, Miami, and Chicago.  California is home to the majority of Citibank's US branches, with 292 branches located in the state.'\n",
      "Citi announced it may return its retail banking presence to Dallas in 2022. Citibank will take more than 9,000 square feet of space in the Berkshire Court building at Preston and Northwest Highway. Construction is scheduled to start on the new office early next year, according to planning documents filed with the state. The new Citibank office is described as an \"experience center\" in the planning documents. The plans identify the operation as \"retail bank/office space\". Citibank doesn't have a major retail banking presence in the Dallas area. A spokesman in the bank's New York office would not give details about what is planned in the North Dallas location. \"We'll decline to comment on this,\" said Citibank's Drew Benson in an email.\n",
      "\n",
      "\n",
      "=== 2007–2009 losses and cost-cutting measures by parent Citigroup ===\n",
      "On April 11, 2007, Citigroup, the parent of Citibank, announced layoffs of 17,000 employees, or 8% of its workforce.\n",
      "On November 4, 2007, Charles Prince resigned as the chairman and chief executive of Citigroup, the parent of Citibank, following crisis meetings with the board in New York in the wake of billions of dollars in losses related to subprime lending. Former United States Secretary of the Treasury Robert Rubin took over as chairman, subsequently hiring Vikram Pandit as chief executive.\n",
      "On November 5, 2007, several days after Merrill Lynch announced that it too had been losing billions from the subprime mortgage crisis in the United States, Citi reported that it will lose between $8 billion and $11 billion in the fourth quarter of 2007, in addition to the $6.5 billion it lost in the third quarter of 2007.\n",
      "Effective November 30, 2007, Citibank sold its 17 Puerto Rico branches, along with $1.0 billion in deposits, to Banco Popular.\n",
      "In January 2008, Citigroup reported a $10 billion loss in the fourth quarter of 2007, after an $18.1 billion write down.\n",
      "In March 2008, Citibank set up Mobile Money Ventures, a joint venture with SK Telecom, to develop mobile apps for banking.  It sold the venture to Intuit in June 2011.\n",
      "In May 2008, the company closed an $87.5 million leaseback transaction for branches in New York City.\n",
      "In July 2008, Citibank Privatkunden AG & Co. KGaA, the company's German division, was sold to Crédit Mutuel. On February 22, 2010, it was renamed to Targobank.\n",
      "In August 2008, after a three-year investigation by the California Attorney General, Citibank was ordered to repay the $14 million that was removed from 53,000 customers accounts over an 11-year period from 1992 to 2003, plus an additional $4 million in interest and penalties. The money was taken under an electronic \"account sweeping program\" where any positive balances from over-payments or double payments were removed without notice to the customers.\n",
      "As a result of the 2007–2008 financial crisis and huge losses in the value of its subprime mortgage assets, Citigroup, the parent of Citibank, received a bailout in the form of an investment from the U.S. Treasury. On November 23, 2008, in addition to an initial investment of $25 billion, a further $20 billion was invested in the company along with guarantees for risky assets of $306 billion. The guarantees were issued at a time markets were not confident Citi had enough liquidity to cover losses from those investments. Eventually, the Citi shares the Treasury took over in return for the guarantees it issued were booked as net profit for the treasury as Citi had enough liquidity and guarantees did not have to be used. By 2010, Citibank had repaid the loans from the Treasury in full, including interest, resulting in a net profit for the U.S. federal government.\n",
      "On January 16, 2009, Citigroup announced that it was separating Citi Holdings Inc., its non-core businesses such as brokerage, asset management, and local consumer finance and higher-risk assets, from Citicorp. The split was presented as allowing Citibank to concentrate on its core banking business.\n",
      "\n",
      "\n",
      "=== 2010 to present ===\n",
      "On October 19, 2011, Citigroup, the parent of Citibank, agreed to a $285 million civil fraud penalty after the U.S. Securities and Exchange Commission accused the company of betting against risky mortgage-related investments that it sold to its clients.\n",
      "In 2014, Citigroup announced it would exit retail banking in 11 markets, primarily in Europe and Central America. In September 2014, it exited the Texas market with the sale of 41 branches to BB&T. In September 2015, the bank announced that it would close its 17 branches in Massachusetts and end sponsorship of a theater in Boston.\n",
      "In 2015, the bank was ordered to pay $770 million in relief to borrowers for illegal credit card practices. The Consumer Financial Protection Bureau said that about 7 million customer accounts were affected by Citibank's \"deceptive marketing\" practices, which included misrepresenting costs and fees and charging customers for services they did not receive.\n",
      "On March 1, 2017, an article in The Economic Times of India stated that Citibank may close its 44 branches in India, as digital transactions made them less necessary. The articles wrote that Citibank was \"India's most profitable foreign lender\".\n",
      "On March 20, 2017, The Guardian reported that hundreds of banks had helped launder FSB-related funds out of Russia, as uncovered by an investigation named Russian Laundromat. Citibank was listed among the American banks that were named as having handled the laundered funds, with banks in the US processing around $63.7 million between 2010 and 2014. Citibank was listed as having processed $37 million of that amount, with others including Bank of America, which processed $14 million. as the bank \"handled $113.1 million\" in Laundromat cash.\n",
      "In March 2018, Citibank announced a new firearms policy, placing restrictions on financial transactions in the U.S. firearm industry.\n",
      "In April 2021, Citibank announced it would exit its consumer banking operations in 13 markets, including Australia, Bahrain, China, India, Indonesia, South Korea, Malaysia, the Philippines, Poland, Russia, Taiwan, Thailand and Vietnam.\n",
      "In January 2022, Citi further announced its plan to exit consumer banking in Mexico (also known as Citibanamex), as well as small-business and middle-market banking operations.\n",
      "In September 2022, Citi announced plans to wind down retail banking in the UK.\n",
      "In January 2024, Citi reported a $1.8 billion loss in the fourth quarter of 2023 and announced plans to cut 20,000 jobs, roughly 8% of its workforce.\n",
      "At the bank's 2024 investor day, Citi highlighted its Services division, which produces income from \"financial pipes\".\n",
      "\n",
      "\n",
      "== Chairmen ==\n",
      "Since the bank's founding in 1812, it has been led by a President, with Samuel Osgood being elected as the first President. In 1909, James Stillman became the first chairman of the company.\n",
      "\n",
      "\n",
      "=== List of Chairmen ===\n",
      "Samuel Osgood (1812–1813)\n",
      "William Few (1813–1817)\n",
      "Peter Staff (1817–1825)\n",
      "Thomas Smith (1825–1827)\n",
      "Isaac Wright (1827–1832)\n",
      "Thomas Bloodgood (1832–1844)\n",
      "Gorham A. Worth (1844–1856)\n",
      "Moses Taylor (1856–1882)\n",
      "Percy Pyne (1882–1891)\n",
      "James Stillman (1891–1918)\n",
      "Frank A. Vanderlip (1918–1919)\n",
      "James A. Stillman (1919–1921)\n",
      "Charles E. Mitchell (1921–1933)\n",
      "James H. Perkins (1933–1940)\n",
      "Gordon Sohn Rentschler (1940–1948)\n",
      "William Gage Brady Jr. (1948–1952)\n",
      "Howard C. Sheperd (1952–1959)\n",
      "James Stillman Rockefeller (1959–1967)\n",
      "George S. Moore (1967–1970)\n",
      "Walter B. Wriston (1970–1984)\n",
      "John S. Reed (1984–1998)\n",
      "John S. Reed and Sandy Weill (1998–2000)\n",
      "Sandy Weill (2000–2006)\n",
      "Charles Prince (2006–2007)\n",
      "Sir Win Bischoff (2007–2009)\n",
      "Dick Parsons (2009–2012)\n",
      "Michael O'Neill (2012–2019)\n",
      "John Dugan (2019– )\n",
      "\n",
      "\n",
      "== Controversies ==\n",
      "\n",
      "\n",
      "=== Alleged money laundering by Raul Salinas ===\n",
      "In 1998, the General Accounting Office issued a report critical of Citibank's handling of funds received from Raul Salinas de Gortari, brother of Carlos Salinas, the former president of Mexico. The report, titled \"Raul Salinas, Citibank and Alleged Money Laundering\", indicated that Citibank facilitated the transfer of millions of dollars through complex financial transactions that hid the funds' paper trail. The report indicated that Citibank took on Salinas as a client without making a thorough inquiry as to how he made his fortune, an omission that a Citibank official called a violation of the bank's \"know your customer\" policy.\n",
      "\n",
      "\n",
      "=== Yakuza links ===\n",
      "Citibank has been punished by the Japanese Financial Services Agency twice (2004 and 2009) for aiding and abetting money laundering by yakuza members; there was no punishment from the U.S. side. In 2004–2006, Immigration Customs Enforcement (ICE) seized close to $1 million worth of assets in the United States owned by Susumu Kajiyama, the so-called emperor of loan sharks, and a Yamaguchi-gumi Goryokai member.\n",
      "\"In 2004, Citibank (Japan) lost their private banking license because they were allowing yakuza to do many complex transactions,\" Jake Adelstein, author of \"Tokyo Vice\" and an expert on Japan's mafia – known as the yakuza – told CNN. \"They got 'spanked' in 2009 for failing to update their databases and allowing yakuza to do business with them again.\"\n",
      "\n",
      "\n",
      "=== Funding of the Dakota Access Pipeline ===\n",
      "Citibank is one of the lead lenders to the developers of the Dakota Access Pipeline project in North Dakota, a 1,172-mile-long (1,886 km) oil pipeline project. The pipeline has been controversial regarding its potential environmental impacts and impacts to Siouan sacred lands and water supply. According to a statement by Hugh MacMillan, a senior researcher on water, energy and climate issues, Citibank has been \"running the books on this project, and that's the bank that beat the bushes and got other banks to join in.\"\n",
      "On December 13, 2016, students of Columbia University protested outside of the Citibank location on Broadway and 112th Street, by holding cardboard signs, chanting and passing flyers. Earlier that year, the university replaced the on-campus Citibank ATMs with ATMs from Santander Bank, a bank that has no ties to the Dakota Access Pipeline.\n",
      "\n",
      "\n",
      "=== Libor Index Settlement ===\n",
      "Preceded by other banks involved in the Libor Scandal, Citibank in June 2018 reached a settlement with 42 U.S. states to pay a $100 million fine due to their manipulation of the London Inter-bank Offered Rate. Libor index is widely used as a reference rate for many financial instruments both in financial and commercial fields.\n",
      "\n",
      "\n",
      "== Sponsorships ==\n",
      "Citibank sponsors Citi Field, home of the New York Mets baseball club as well as the Washington Open tennis championship.\n",
      "The firm became a sponsor of the Australian Rugby Union team in 2001 for a three-year deal, and a major sponsor of the Sydney Swans in 2005, who play in the Australian Football League.\n",
      "In the late 1970s, First National City was heavily involved in Indy Car racing, sponsoring major drivers like Johnny Rutherford and Al Unser, Sr. Unser won the 1978 Indianapolis 500 in First National City Travelers Checks livery.\n",
      "In Formula 1 First National City was the sponsor of team Tyrrell in 1977 and 1978, with the First National City Travelers Checks livery also. They're currently sponsoring Fernando Alonso in Formula 1\n",
      "Citibank is the main sponsor of New York City's bike-share scheme Citi Bike since its launch in 2013.\n",
      "\n",
      "\n",
      "== In popular culture ==\n",
      "Political cartoonist Michel Kichka satirized Citibank in his 1982 poster ...And I Love New York, in which the lettering above the entrance to a New York City branch reads\" \"Citibang\". Meanwhile, a stocking-wearing bank robber exits and fires shots at NYPD officers responding to the robbery.\n",
      "The 2001 song \"Short Skirt/Long Jacket\" references the company with the line \"At Citibank, we will meet accidentally.\"\n",
      "\n",
      "\n",
      "== See also ==\n",
      "\n",
      "Citigroup Center\n",
      "List of chairmen of Citigroup\n",
      "Sanford I. Weill\n",
      "ATM Industry Association\n",
      "\n",
      "\n",
      "== References ==\n",
      "\n",
      "\n",
      "== Further reading ==\n",
      "Cleveland, Harold van B.; Huertas, Thomas F. (1985). Citibank, 1812–1970. Harvard University Press. OCLC 11867287.\n",
      "Zweig, Philip L. (1995). Wriston: Walter Wriston, Citibank and the Rise and Fall of American Financial Supremacy. Crown Publishers. OCLC 232673245.\n",
      "Freeman, James; McKinley, Vern (2018). Borrowed Time: Two Centuries of Booms, Busts, and Bailouts at Citi. Harper Business. OCLC 1028607879.\n"
     ]
    }
   ],
   "source": [
    "print(page.content)"
   ]
  }
 ],
 "metadata": {
  "kernelspec": {
   "display_name": "gpu_tf",
   "language": "python",
   "name": "python3"
  },
  "language_info": {
   "codemirror_mode": {
    "name": "ipython",
    "version": 3
   },
   "file_extension": ".py",
   "mimetype": "text/x-python",
   "name": "python",
   "nbconvert_exporter": "python",
   "pygments_lexer": "ipython3",
   "version": "3.10.14"
  }
 },
 "nbformat": 4,
 "nbformat_minor": 2
}
