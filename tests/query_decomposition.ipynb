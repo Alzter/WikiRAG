{
 "cells": [
  {
   "cell_type": "code",
   "execution_count": 5,
   "metadata": {},
   "outputs": [
    {
     "name": "stderr",
     "output_type": "stream",
     "text": [
      "`low_cpu_mem_usage` was None, now set to True since model is quantized.\n"
     ]
    },
    {
     "data": {
      "application/vnd.jupyter.widget-view+json": {
       "model_id": "2df8d408a327435787ce551fbb77f262",
       "version_major": 2,
       "version_minor": 0
      },
      "text/plain": [
       "Loading checkpoint shards:   0%|          | 0/4 [00:00<?, ?it/s]"
      ]
     },
     "metadata": {},
     "output_type": "display_data"
    }
   ],
   "source": [
    "import transformers\n",
    "import torch\n",
    "from transformers import AutoModelForCausalLM, AutoTokenizer, BitsAndBytesConfig\n",
    "\n",
    "# Load the model using 4-bit quantization (1/2 size)\n",
    "# Source: https://huggingface.co/blog/4bit-transformers-bitsandbytes\n",
    "quantization_config = BitsAndBytesConfig(\n",
    "   load_in_4bit=True,\n",
    "   bnb_4bit_compute_dtype=torch.bfloat16\n",
    ")\n",
    "\n",
    "model_id = \"meta-llama/Meta-Llama-3.1-8B-Instruct\"\n",
    "model = AutoModelForCausalLM.from_pretrained(model_id, quantization_config = quantization_config)\n",
    "\n",
    "tokenizer = AutoTokenizer.from_pretrained(model_id)\n",
    "\n",
    "pipeline = transformers.pipeline(\n",
    "    \"text-generation\",\n",
    "    model=model,\n",
    "    tokenizer=tokenizer,\n",
    "    torch_dtype=torch.float16,\n",
    "    device_map=\"auto\",\n",
    ")"
   ]
  },
  {
   "cell_type": "code",
   "execution_count": 8,
   "metadata": {},
   "outputs": [],
   "source": [
    "pipeline = transformers.pipeline(\n",
    "    \"text-generation\",\n",
    "    model=model,\n",
    "    tokenizer=tokenizer,\n",
    "    torch_dtype=torch.float16,\n",
    "    device_map=\"auto\",\n",
    ")"
   ]
  },
  {
   "cell_type": "code",
   "execution_count": 6,
   "metadata": {},
   "outputs": [],
   "source": [
    "import sys; sys.path.append(\"../\")\n",
    "from prompt import Prompt"
   ]
  },
  {
   "cell_type": "code",
   "execution_count": 7,
   "metadata": {},
   "outputs": [
    {
     "name": "stdout",
     "output_type": "stream",
     "text": [
      "# Question Decomposition Specialist\n",
      "\n",
      "    ## Background\n",
      "    - You are an expert at analyzing problems and are good at breaking down difficult problems into simple problems.\n",
      "    - A person facing the problem {question} is asking you for help. The question is hard to answer directly.\n",
      "\n",
      "    ## Goal\n",
      "    Helping the user decompose the question and tell the user at the right time that the problem can be solved.\n",
      "\n",
      "    ## Constraint\n",
      "    - Forget all the knowledge you've learned before and decide whether to continue decomposing the question based only on the user's answers.\n",
      "    - To make it easier for the user to answer, only one simple question is asked at once.\n",
      "    - You can only decompose the question, do not answer it directly.\n",
      "\n",
      "    ## Workflow\n",
      "    1. Analyse the original complex question and formulate a simple question based on that complex question.\n",
      "    2. Receive the user's answer to the simple question at hand.\n",
      "    2.1 If the user is unable to answer the current simple question, rephrase a simple question.\n",
      "    2.2 If the user answers the current simple question, analyze all currently known simple questions and user responses.\n",
      "    2.2.1 If you think that all the currently known simple questions and answers are sufficient to answer the initial complex question, say \"That's enough.\"\n",
      "    2.2.2 Otherwise, ask a new simple question.\n",
      "    3. Repeat step 2 until the complex question can be answered.\n",
      "\n",
      "    ## Example\n",
      "    - Complex Question: What is the award that the director of film Wearing Velvet Slippers Under A Golden Umbrella won?\n",
      "    - Progress of Decomposition:\n",
      "        1st Simple Question: Who is the director of film Wearing Velvet Slippers Under A Golden Umbrella won?\n",
      "        1st Answer: the director of film Wearing Velvet Slippers Under A Golden Umbrella won is Wunna.\n",
      "        2nd Simple Question: What awards has Wunna won?\n",
      "        2nd Answer: Wunna won Myanmar Motion Picture Academy Awards.\n",
      "    - Final Output: That's enough.\n",
      "\n",
      "    - Complex Question: Are North Marion High School (Oregon) and Seoul High School both located in the same country?\n",
      "    - Progress of Decomposition:\n",
      "        1st Simple Question: what country is North Marion High School (Oregon) located in?\n",
      "        1st Answer:North Marion High School (Oregon) is  located in United States.\n",
      "        2nd Simple Question:what country is Seoul High School located in?\n",
      "        2nd Answer:Seoul High School is located in South Korea.\n",
      "    - Final Output: That's enough.\n",
      "\n",
      "    - Complex Question:Who is the maternal grandfather of Antiochus X Eusebes?\n",
      "    - Progress of Decomposition:\n",
      "        1st Simple Question: Who is the mother of Antiochus X Eusebes?\n",
      "        1st Answer:the mother of Antiochus X Eusebes is Cleopatra IV.\n",
      "        2nd Simple Question:who is the father of Cleopatra IV?\n",
      "        2nd Answer:the father of Cleopatra IV is Ptolemy VIII Physcon.\n",
      "    - Final Output: That's enough.\n",
      "\n",
      "    - Complex Question:Where was the place of death of Anastasia Of Serbia's husband?\n",
      "    - Progress of Decomposition:\n",
      "        1st Simple Question: Who is the husband of Anastasia Of Serbia?\n",
      "        1st Answer:the husband of Anastasia Of Serbia is Stefan Nemanja.\n",
      "        2nd Simple Question:Where was the place of death of Stefan Nemanja?\n",
      "        2nd Answer:the place of death of Stefan Nemanja is Holy Monastery Hilandar, Moni Chilandariou, Greece.\n",
      "    - Final Output: That's enough.\n",
      "\n",
      "    - Complex Question:Which film has the director died earlier, Condemned Women or Faces In The Dark?\n",
      "    - Progress of Decomposition:\n",
      "        1st Simple Question: What is the director of the film Condemned Women?\n",
      "        1st Answer:the director of the film Condemned Women is Lew Landers.\n",
      "        2nd Simple Question:What is the director of the film Faces In The Dark?\n",
      "        2nd Answer:the director of the film Faces In The Dark is David Eady.\n",
      "        3st Simple Question: When did Lew Landers die?\n",
      "        3st Answer:Lew Landers die on 16 December 1962.\n",
      "        4st Simple Question: When did David Eady die?\n",
      "        4st Answer:David Eady die on April 5, 2009.\n",
      "    - Final Output: That's enough.\n",
      "\n",
      "    ## Initialization\n",
      "    Now, a first simple question.\n",
      "    \n"
     ]
    }
   ],
   "source": [
    "print(Prompt.cot_prompt)"
   ]
  },
  {
   "cell_type": "code",
   "execution_count": null,
   "metadata": {},
   "outputs": [],
   "source": [
    "def decompose_question(question):\n",
    "\n",
    "    cot_prompt = [\n",
    "        {'role':'system','content':Prompt.cot_prompt}, # Question Decomposition Specialist Prompt\n",
    "        {'role':'user','content':f\"Let's break down this complex question: {question}\"}\n",
    "    ]\n",
    "    \n",
    "    # Convert the prompt into a string, inserting the proper control tokens\n",
    "    # cot_prompt_string = tokenizer.apply_chat_template(cot_prompt)\n",
    "\n",
    "    response = pipeline(\n",
    "        f\"{cot_prompt}\\n\",\n",
    "        do_sample=True,\n",
    "        top_k=10,\n",
    "        num_return_sequences=1,\n",
    "        eos_token_id=tokenizer.eos_token_id,\n",
    "        truncation = True,\n",
    "        max_length=400\n",
    "    )\n",
    "\n",
    "    return response"
   ]
  }
 ],
 "metadata": {
  "kernelspec": {
   "display_name": "gpu_tf",
   "language": "python",
   "name": "python3"
  },
  "language_info": {
   "codemirror_mode": {
    "name": "ipython",
    "version": 3
   },
   "file_extension": ".py",
   "mimetype": "text/x-python",
   "name": "python",
   "nbconvert_exporter": "python",
   "pygments_lexer": "ipython3",
   "version": "3.10.14"
  }
 },
 "nbformat": 4,
 "nbformat_minor": 2
}
