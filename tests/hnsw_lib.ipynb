{
 "cells": [
  {
   "cell_type": "code",
   "execution_count": 1,
   "metadata": {},
   "outputs": [],
   "source": [
    "import hnswlib\n",
    "import numpy as np"
   ]
  },
  {
   "cell_type": "code",
   "execution_count": 2,
   "metadata": {},
   "outputs": [],
   "source": [
    "# Set parameters\n",
    "dim = 128  # Dimension of the vectors\n",
    "num_elements = 10000  # Number of elements to add\n",
    "\n",
    "# Initialize the index\n",
    "p = hnswlib.Index(space='l2', dim=dim)  # 'l2' refers to the Euclidean distance"
   ]
  },
  {
   "cell_type": "code",
   "execution_count": 3,
   "metadata": {},
   "outputs": [],
   "source": [
    "# Generate random data\n",
    "data = np.float32(np.random.random((num_elements, dim)))"
   ]
  },
  {
   "cell_type": "code",
   "execution_count": 9,
   "metadata": {},
   "outputs": [
    {
     "data": {
      "text/plain": [
       "array([[0.8515988 , 0.01755763, 0.06527183, ..., 0.9496456 , 0.6817592 ,\n",
       "        0.6892076 ],\n",
       "       [0.6909492 , 0.21134596, 0.90046054, ..., 0.46829513, 0.3788647 ,\n",
       "        0.10205414],\n",
       "       [0.22164924, 0.20613472, 0.04461031, ..., 0.39052486, 0.05016416,\n",
       "        0.6990841 ],\n",
       "       ...,\n",
       "       [0.63896793, 0.84920627, 0.09040519, ..., 0.8414225 , 0.90276164,\n",
       "        0.3783352 ],\n",
       "       [0.22978273, 0.433766  , 0.6155778 , ..., 0.18770008, 0.9650767 ,\n",
       "        0.32443455],\n",
       "       [0.9382895 , 0.72919345, 0.40884885, ..., 0.41671327, 0.30841056,\n",
       "        0.62401426]], dtype=float32)"
      ]
     },
     "execution_count": 9,
     "metadata": {},
     "output_type": "execute_result"
    }
   ],
   "source": [
    "data"
   ]
  },
  {
   "cell_type": "code",
   "execution_count": 11,
   "metadata": {},
   "outputs": [],
   "source": [
    "# Set the number of threads used during the build process\n",
    "p.set_num_threads(4)\n",
    "\n",
    "# Build the index\n",
    "p.init_index(max_elements=num_elements, ef_construction=200, M=16)\n",
    "p.add_items(data)"
   ]
  },
  {
   "cell_type": "code",
   "execution_count": 12,
   "metadata": {},
   "outputs": [],
   "source": [
    "# Set the exploration factor (ef)\n",
    "p.set_ef(50)  # ef should always be greater than k"
   ]
  },
  {
   "cell_type": "code",
   "execution_count": 13,
   "metadata": {},
   "outputs": [],
   "source": [
    "# Generate random queries\n",
    "# query_data = np.float32(np.random.random((100, dim)))\n",
    "query_data = np.float32(np.random.random((1, dim)))\n",
    "\n",
    "# Perform the query\n",
    "labels, distances = p.knn_query(query_data, k=10)"
   ]
  },
  {
   "cell_type": "code",
   "execution_count": 14,
   "metadata": {},
   "outputs": [
    {
     "data": {
      "text/plain": [
       "array([[6871, 3444, 6394, 2600, 3170,  586, 2451, 4215,  249, 3933]],\n",
       "      dtype=uint64)"
      ]
     },
     "execution_count": 14,
     "metadata": {},
     "output_type": "execute_result"
    }
   ],
   "source": [
    "# len(labels)\n",
    "labels\n",
    "# distances"
   ]
  },
  {
   "cell_type": "code",
   "execution_count": 9,
   "metadata": {},
   "outputs": [],
   "source": [
    "assert len(labels) == 100  # Ensure we get results for all queries\n",
    "assert labels.shape[1] == 10  # Ensure each query returns 10 nearest neighbors"
   ]
  },
  {
   "cell_type": "code",
   "execution_count": 10,
   "metadata": {},
   "outputs": [
    {
     "name": "stdout",
     "output_type": "stream",
     "text": [
      "Accuracy: 6.46\n"
     ]
    }
   ],
   "source": [
    "# Compare results with brute-force search\n",
    "from sklearn.metrics.pairwise import euclidean_distances\n",
    "\n",
    "true_distances = euclidean_distances(query_data, data)\n",
    "true_labels = np.argsort(true_distances, axis=1)[:, :10]\n",
    "\n",
    "# Check if the HNSW results match the brute-force results\n",
    "accuracy = np.mean([np.isin(labels[i], true_labels[i]).sum() for i in range(len(labels))])\n",
    "print(f\"Accuracy: {accuracy}\")"
   ]
  },
  {
   "cell_type": "code",
   "execution_count": 11,
   "metadata": {},
   "outputs": [
    {
     "name": "stdout",
     "output_type": "stream",
     "text": [
      "Query time: 0.00299072265625 seconds\n"
     ]
    }
   ],
   "source": [
    "import time\n",
    "\n",
    "start_time = time.time()\n",
    "p.knn_query(query_data, k=10)\n",
    "end_time = time.time()\n",
    "print(f\"Query time: {end_time - start_time} seconds\")"
   ]
  }
 ],
 "metadata": {
  "kernelspec": {
   "display_name": "Python 3",
   "language": "python",
   "name": "python3"
  },
  "language_info": {
   "codemirror_mode": {
    "name": "ipython",
    "version": 3
   },
   "file_extension": ".py",
   "mimetype": "text/x-python",
   "name": "python",
   "nbconvert_exporter": "python",
   "pygments_lexer": "ipython3",
   "version": "3.12.4"
  }
 },
 "nbformat": 4,
 "nbformat_minor": 2
}
