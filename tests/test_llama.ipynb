{
 "cells": [
  {
   "cell_type": "code",
   "execution_count": 1,
   "metadata": {},
   "outputs": [
    {
     "data": {
      "application/vnd.jupyter.widget-view+json": {
       "model_id": "f5156c5459784e289d0b25a72d1f0276",
       "version_major": 2,
       "version_minor": 0
      },
      "text/plain": [
       "Loading checkpoint shards:   0%|          | 0/4 [00:00<?, ?it/s]"
      ]
     },
     "metadata": {},
     "output_type": "display_data"
    }
   ],
   "source": [
    "import transformers\n",
    "import torch\n",
    "from transformers import AutoModelForCausalLM, AutoTokenizer, BitsAndBytesConfig\n",
    "\n",
    "# Load the model using 4-bit quantization (1/2 size)\n",
    "# Source: https://huggingface.co/blog/4bit-transformers-bitsandbytes\n",
    "quantization_config = BitsAndBytesConfig(\n",
    "   load_in_4bit=True,\n",
    "   bnb_4bit_compute_dtype=torch.bfloat16\n",
    ")\n",
    "\n",
    "model_id = \"meta-llama/Meta-Llama-3.1-8B-Instruct\"\n",
    "model = AutoModelForCausalLM.from_pretrained(model_id, device_map=\"cuda\", quantization_config = quantization_config)\n",
    "\n",
    "tokenizer = AutoTokenizer.from_pretrained(model_id)"
   ]
  },
  {
   "cell_type": "code",
   "execution_count": 2,
   "metadata": {},
   "outputs": [],
   "source": [
    "pipeline = transformers.pipeline(\n",
    "    \"text-generation\",\n",
    "    model=model,\n",
    "    tokenizer=tokenizer,\n",
    "    torch_dtype=torch.float16,\n",
    "    device_map=\"auto\",\n",
    ")"
   ]
  },
  {
   "cell_type": "code",
   "execution_count": 3,
   "metadata": {},
   "outputs": [],
   "source": [
    "def query_llama(prompt):\n",
    "    sequences = pipeline(\n",
    "        f'{prompt}\\n',\n",
    "        do_sample=True,\n",
    "        top_k=10,\n",
    "        num_return_sequences=1,\n",
    "        eos_token_id=tokenizer.eos_token_id,\n",
    "        truncation = True,\n",
    "        max_length=400,\n",
    "    )\n",
    "\n",
    "    for seq in sequences:\n",
    "        print(f\"Result: {seq['generated_text']}\") "
   ]
  },
  {
   "cell_type": "code",
   "execution_count": 4,
   "metadata": {},
   "outputs": [
    {
     "name": "stderr",
     "output_type": "stream",
     "text": [
      "Setting `pad_token_id` to `eos_token_id`:128009 for open-end generation.\n",
      "c:\\Users\\krazy\\AppData\\Local\\Programs\\Python\\Python312\\Lib\\site-packages\\transformers\\models\\llama\\modeling_llama.py:660: UserWarning: 1Torch was not compiled with flash attention. (Triggered internally at C:\\actions-runner\\_work\\pytorch\\pytorch\\builder\\windows\\pytorch\\aten\\src\\ATen\\native\\transformers\\cuda\\sdp_utils.cpp:555.)\n",
      "  attn_output = torch.nn.functional.scaled_dot_product_attention(\n"
     ]
    },
    {
     "name": "stdout",
     "output_type": "stream",
     "text": [
      "Result: Dong ngu ngon?\n",
      "Dong ngu ngon? - 1\n",
      "Dong ngu ngon? - 2\n",
      "Dong ngu ngon? - 3\n",
      "Dong ngu ngon? - 4\n",
      "Dong ngu ngon? - 5\n",
      "Dong ngu ngon? - 6\n",
      "Dong ngu ngon? - 7\n",
      "Dong ngu ngon? - 8\n",
      "Dong ngu ngon? - 9\n",
      "Dong ngu ngon? - 10\n",
      "Dong ngu ngon? - 11\n",
      "Dong ngu ngon? - 12\n",
      "Dong ngu ngon? - 13\n",
      "Dong ngu ngon? - 14\n",
      "Dong ngu ngon? - 15\n",
      "Dong ngu ngon? - 16\n",
      "Dong ngu ngon? - 17\n",
      "Dong ngu ngon? - 18\n",
      "Dong ngu ngon? - 19\n",
      "Dong ngu ngon? - 20\n",
      "Dong ngu ngon? - 21\n",
      "Dong ngu ngon? - 22\n",
      "Dong ngu ngon? - 23\n",
      "Dong ngu ngon? - 24\n",
      "Dong ngu ngon? - 25\n",
      "Dong ngu ngon? - 26\n",
      "Dong ngu ngon? - 27\n",
      "Dong ngu ngon? - 28\n",
      "Dong ngu ngon? - 29\n",
      "Dong ngu ngon? - 30\n",
      "Dong ngu ngon? - 31\n",
      "Dong ngu ngon? - 32\n",
      "Dong ngu ngon? - 33\n",
      "Dong ngu ngon? - 34\n",
      "Dong ngu ngon? - 35\n",
      "Dong ngu ngon? - 36\n",
      "Dong ngu ngon? - 37\n",
      "Dong ngu ngon? - 38\n",
      "Dong ngu ngon? - 39\n",
      "Dong ngu ngon? - 40\n",
      "Dong ngu ngon? - 41\n",
      "Dong ngu ngon? - 42\n",
      "Dong ngu ngon? - 43\n",
      "Dong ngu ngon? - \n"
     ]
    }
   ],
   "source": [
    "query_llama(\"Dong ngu ngon?\")"
   ]
  }
 ],
 "metadata": {
  "kernelspec": {
   "display_name": "Python 3",
   "language": "python",
   "name": "python3"
  },
  "language_info": {
   "codemirror_mode": {
    "name": "ipython",
    "version": 3
   },
   "file_extension": ".py",
   "mimetype": "text/x-python",
   "name": "python",
   "nbconvert_exporter": "python",
   "pygments_lexer": "ipython3",
   "version": "3.12.4"
  }
 },
 "nbformat": 4,
 "nbformat_minor": 2
}
