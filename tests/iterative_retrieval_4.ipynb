{
 "cells": [
  {
   "cell_type": "code",
   "execution_count": 1,
   "metadata": {},
   "outputs": [
    {
     "ename": "ModuleNotFoundError",
     "evalue": "No module named 'iterative_retrieval'",
     "output_type": "error",
     "traceback": [
      "\u001b[1;31m---------------------------------------------------------------------------\u001b[0m",
      "\u001b[1;31mModuleNotFoundError\u001b[0m                       Traceback (most recent call last)",
      "Cell \u001b[1;32mIn[1], line 1\u001b[0m\n\u001b[1;32m----> 1\u001b[0m \u001b[38;5;28;01mfrom\u001b[39;00m \u001b[38;5;21;01miterative_retrieval\u001b[39;00m \u001b[38;5;28;01mimport\u001b[39;00m IterativeRetrieval\n",
      "\u001b[1;31mModuleNotFoundError\u001b[0m: No module named 'iterative_retrieval'"
     ]
    }
   ],
   "source": [
    "from iterative_retrieval import IterativeRetrieval"
   ]
  },
  {
   "cell_type": "code",
   "execution_count": 2,
   "metadata": {},
   "outputs": [
    {
     "name": "stdout",
     "output_type": "stream",
     "text": [
      "Loading knowledge base...\n"
     ]
    },
    {
     "name": "stderr",
     "output_type": "stream",
     "text": [
      "Loading knowledge base: 100%|██████████| 552/552 [00:18<00:00, 30.61article/s, Antares]                                          \n"
     ]
    },
    {
     "name": "stdout",
     "output_type": "stream",
     "text": [
      "Loading transformer model and tokenizer from transformers library: avsolatorio/NoInstruct-small-Embedding-v0\n",
      "Please wait...\n",
      "\n",
      "Loading transformer model and tokenizer from transformers library: meta-llama/Meta-Llama-3.1-8B-Instruct\n",
      "Please wait...\n",
      "\n"
     ]
    },
    {
     "data": {
      "application/vnd.jupyter.widget-view+json": {
       "model_id": "8fd2baed198842428886c0e098ed2fb4",
       "version_major": 2,
       "version_minor": 0
      },
      "text/plain": [
       "Loading checkpoint shards:   0%|          | 0/4 [00:00<?, ?it/s]"
      ]
     },
     "metadata": {},
     "output_type": "display_data"
    }
   ],
   "source": [
    "rag = IterativeRetrieval(r'D:\\knowledge_base')"
   ]
  },
  {
   "cell_type": "code",
   "execution_count": 3,
   "metadata": {},
   "outputs": [
    {
     "name": "stderr",
     "output_type": "stream",
     "text": [
      "Setting `pad_token_id` to `eos_token_id`:None for open-end generation.\n"
     ]
    },
    {
     "name": "stdout",
     "output_type": "stream",
     "text": [
      "Decomposing question: Who is the son of the father of Abraham Lincoln?\n"
     ]
    },
    {
     "name": "stderr",
     "output_type": "stream",
     "text": [
      "c:\\Users\\Alex\\anaconda3\\envs\\gpu_tf\\lib\\site-packages\\transformers\\models\\llama\\modeling_llama.py:655: UserWarning: 1Torch was not compiled with flash attention. (Triggered internally at C:\\actions-runner\\_work\\pytorch\\pytorch\\builder\\windows\\pytorch\\aten\\src\\ATen\\native\\transformers\\cuda\\sdp_utils.cpp:555.)\n",
      "  attn_output = torch.nn.functional.scaled_dot_product_attention(\n",
      "Starting from v4.46, the `logits` model output will have the same type as the model (except at train time, where it will always be FP32)\n"
     ]
    },
    {
     "name": "stdout",
     "output_type": "stream",
     "text": [
      "Extracted sub-question: What is the father of Abraham Lincoln?\n",
      "Attempting to answer sub-question...\n",
      "Attempt 1 to answer question\n"
     ]
    },
    {
     "name": "stderr",
     "output_type": "stream",
     "text": [
      "Setting `pad_token_id` to `eos_token_id`:None for open-end generation.\n"
     ]
    },
    {
     "name": "stdout",
     "output_type": "stream",
     "text": [
      "Retrieved context from article: Abraham Lincoln\n",
      "Attempting to answer question using context: Abraham Lincoln was born on February 12, 1809, the second child of Thomas Lincoln and Nancy Hanks Lincoln, in a log cabin on Sinking Spring Farm near Hodgenville, Kentucky. He was a descendant of Samuel Lincoln, an Englishman who migrated from Hingham, Norfolk, to its namesake, Hingham, Massachusetts, in 1638. The family then migrated west, passing through New Jersey, Pennsylvania, and Virginia. Lincoln was also a descendant of the Harrison family of Virginia; his paternal grandfather and namesake, Captain Abraham Lincoln and wife Bathsheba (née Herring) moved the family from Virginia to Jefferson County, Kentucky. The captain was killed in an Indian raid in 1786. His children, including eight-year-old Thomas, Abraham's father, witnessed the attack. Thomas then worked at odd jobs in Kentucky and Tennessee before the family settled in Hardin County, Kentucky, in the early 1800s.\n"
     ]
    },
    {
     "name": "stderr",
     "output_type": "stream",
     "text": [
      "Setting `pad_token_id` to `eos_token_id`:None for open-end generation.\n"
     ]
    },
    {
     "name": "stdout",
     "output_type": "stream",
     "text": [
      "Answer: Abraham Lincoln's father is Thomas Lincoln.\n",
      "Answer confidence:tensor([0.3530], dtype=torch.float16)\n",
      "Extracted answer to sub-question: Abraham Lincoln's father is Thomas Lincoln.\n",
      "Decomposing question again...\n"
     ]
    },
    {
     "name": "stderr",
     "output_type": "stream",
     "text": [
      "Setting `pad_token_id` to `eos_token_id`:None for open-end generation.\n"
     ]
    },
    {
     "name": "stdout",
     "output_type": "stream",
     "text": [
      "Evaluating whether contexts are sufficient to answer original query...\n"
     ]
    },
    {
     "name": "stderr",
     "output_type": "stream",
     "text": [
      "Setting `pad_token_id` to `eos_token_id`:None for open-end generation.\n"
     ]
    },
    {
     "name": "stdout",
     "output_type": "stream",
     "text": [
      "Model is confident that it can answer the original question\n",
      "Retrieved enough context to answer original question: Who is the son of the father of Abraham Lincoln?\n",
      "Context:\n",
      "[\"Abraham Lincoln's father is Thomas Lincoln.\"]\n",
      "Getting LLM to acquire answer using CoT...\n",
      "Generated verbose answer:\n",
      "The context says that Abraham Lincoln's father is Thomas Lincoln. It does not provide any information about Thomas Lincoln's son. I don't know.\n"
     ]
    },
    {
     "data": {
      "text/plain": [
       "(\"I don't know.\",\n",
       " [{'role': 'system',\n",
       "   'content': \"\\n    ## Question Decomposition Specialist:\\n    You are an expert at breaking down difficult problems into simple problems by analysing them.\\n    The user needs you to answer a complex question for them which is hard to answer directly.\\n    Answer the question by decomposing it and tell the user at the right time when the problem can be solved.\\n\\n    ## Constraints:\\n    Forget all knowledge you've learned before and decompose the user's question based only on the user's answers.\\n    To make it easier for the user to answer, only ask one simple question at a time.\\n    You can only decompose the question, do not answer it directly.\\n    Only write one sentence for your answer containing a simple question.\\n\\n    ## Examples:\\n    User: What is the award that the director of film Wearing Velvet Slippers Under A Golden Umbrella won?\\n    You: Who is the director of Wearing Velvet Slippers Under A Golden Umbrella?\\n    User: The director of Wearing Velvet Slippers Under A Golden Umbrella is Maung Wunna.\\n    You: What awards has Maung Wunna won?\\n    User: Maung Wunna won the Myanmar Motion Picture Academy Awards.\\n    You: That's enough.\\n    \\n    User: Which film's director died earlier, Condemned Women or Faces In The Dark?\\n    You: What is the director of the film Condemned Women?\\n    User: The director of the film Condemned Women is Lew Landers.\\n    You: What is the director of the film Faces In The Dark?\\n    User: The director of the film Faces In The Dark is David Eady.\\n    You: When did Lew Landers die?\\n    User: Lew Landers died on 16 December 1962.\\n    You: When did David Eady die?\\n    User: David Eady died on April 5, 2009.\\n    You: That's enough.\\n    \"},\n",
       "  {'role': 'user',\n",
       "   'content': \"Let's break down this complex question: Who is the son of the father of Abraham Lincoln?\"},\n",
       "  {'role': 'assistant', 'content': 'What is the father of Abraham Lincoln?'},\n",
       "  {'role': 'user', 'content': \"Abraham Lincoln's father is Thomas Lincoln.\"},\n",
       "  {'role': 'assistant', 'content': 'Who is the son of Thomas Lincoln?'},\n",
       "  [{'role': 'system',\n",
       "    'content': '\\n    You need to answer a question given some background information.\\n    Answer the question only if the answer is present in the background information.\\n\\n    ## Contraints:\\n    Forget all knowledge you\\'ve learned before and only answer the question using the information provided.\\n    If the background information doesn\\'t contain the answer, say \"I don\\'t know\".\\n    Explain the reasoning process for your answer in steps using sentences for each step.\\n\\n    ## Examples:\\n    User: Who lived longer, Muhammad Ali or Alan Turing?\\n    User: Muhammad Ali was 74 years old when he died.\\n    User: Alan Turing was 41 years old when he died.\\n    You: The context says that Alan Turing lived for 41 years, whilst Muhammad Ali lived for 74 years. 74 is greater than 41, therefore Muhammad Ali lived longer than Alan Turing.\\n    \\n    User: Who is the director of the film Polish-Russian War (Film)?\\n    You: No context was provided for who the director of Polish-Russian War was. I don\\'t know.\\n\\n    User: How many years elapsed between Abraham Lincoln\\'s birth and the invention of ASCII?\\n    User: Abraham Lincoln was born on February 12, 1809.\\n    User: Work on the ASCII standard began in May 1961.\\n    You: The question is asking for the difference between the year of Abraham Lincoln\\'s birth and the year of invention of ASCII. The context shows that Abrahan Lincoln was born in the year 1809, whilst the ASCII standard began in 1961. 1961 - 1809 = 152, therefore 152 years elapsed between Abraham Lincoln\\'s birth and the creation of the ASCII standard.\\n    '},\n",
       "   {'role': 'user',\n",
       "    'content': 'Who is the son of the father of Abraham Lincoln?'},\n",
       "   {'role': 'user',\n",
       "    'content': [\"Abraham Lincoln's father is Thomas Lincoln.\"]},\n",
       "   {'role': 'assistant',\n",
       "    'content': \"The context says that Abraham Lincoln's father is Thomas Lincoln. It does not provide any information about Thomas Lincoln's son. I don't know.\"}]])"
      ]
     },
     "execution_count": 3,
     "metadata": {},
     "output_type": "execute_result"
    }
   ],
   "source": [
    "rag.answer_multi_hop_question(\"Who is the son of the father of Abraham Lincoln?\")"
   ]
  },
  {
   "cell_type": "code",
   "execution_count": null,
   "metadata": {},
   "outputs": [],
   "source": []
  }
 ],
 "metadata": {
  "kernelspec": {
   "display_name": "Python 3",
   "language": "python",
   "name": "python3"
  },
  "language_info": {
   "codemirror_mode": {
    "name": "ipython",
    "version": 3
   },
   "file_extension": ".py",
   "mimetype": "text/x-python",
   "name": "python",
   "nbconvert_exporter": "python",
   "pygments_lexer": "ipython3",
   "version": "3.12.4"
  }
 },
 "nbformat": 4,
 "nbformat_minor": 2
}
